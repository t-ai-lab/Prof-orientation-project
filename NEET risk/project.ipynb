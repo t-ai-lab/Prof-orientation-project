{
 "cells": [
  {
   "cell_type": "code",
   "execution_count": 1,
   "id": "6c738026",
   "metadata": {},
   "outputs": [
    {
     "name": "stderr",
     "output_type": "stream",
     "text": [
      "C:\\Users\\Jahongir\\anaconda3\\lib\\site-packages\\IPython\\core\\interactiveshell.py:3165: DtypeWarning: Columns (902,921,1071,1074,1085,1087,1088,1098,1099,1100,1117) have mixed types.Specify dtype option on import or set low_memory=False.\n",
      "  has_raised = await self.run_ast_nodes(code_ast.body, cell_name,\n"
     ]
    }
   ],
   "source": [
    "import pandas as pd\n",
    "df=pd.read_csv('project_data.csv',sep=';')"
   ]
  },
  {
   "cell_type": "code",
   "execution_count": 2,
   "id": "1dc60231",
   "metadata": {},
   "outputs": [],
   "source": [
    "#picking out the main and needed variables\n",
    "df=df[['Worker','Q501','Educ_3categ_from201','Q102','UrbanRural','ageYr',\n",
    "       'Q702','Q803','fjobexist','ageeducleft','fmarrlegYYYY','childexist','agelefthome','educToWork','HaveBeenAbroad']]"
   ]
  },
  {
   "cell_type": "code",
   "execution_count": 3,
   "id": "00d71d23",
   "metadata": {},
   "outputs": [
    {
     "data": {
      "text/html": [
       "<div>\n",
       "<style scoped>\n",
       "    .dataframe tbody tr th:only-of-type {\n",
       "        vertical-align: middle;\n",
       "    }\n",
       "\n",
       "    .dataframe tbody tr th {\n",
       "        vertical-align: top;\n",
       "    }\n",
       "\n",
       "    .dataframe thead th {\n",
       "        text-align: right;\n",
       "    }\n",
       "</style>\n",
       "<table border=\"1\" class=\"dataframe\">\n",
       "  <thead>\n",
       "    <tr style=\"text-align: right;\">\n",
       "      <th></th>\n",
       "      <th>Worker</th>\n",
       "      <th>Q501</th>\n",
       "      <th>Educ_3categ_from201</th>\n",
       "      <th>Q102</th>\n",
       "      <th>UrbanRural</th>\n",
       "      <th>ageYr</th>\n",
       "      <th>Q702</th>\n",
       "      <th>Q803</th>\n",
       "      <th>fjobexist</th>\n",
       "      <th>ageeducleft</th>\n",
       "      <th>fmarrlegYYYY</th>\n",
       "      <th>childexist</th>\n",
       "      <th>agelefthome</th>\n",
       "      <th>educToWork</th>\n",
       "      <th>HaveBeenAbroad</th>\n",
       "    </tr>\n",
       "  </thead>\n",
       "  <tbody>\n",
       "    <tr>\n",
       "      <th>0</th>\n",
       "      <td>2</td>\n",
       "      <td>3</td>\n",
       "      <td>3</td>\n",
       "      <td>2</td>\n",
       "      <td>1</td>\n",
       "      <td>24</td>\n",
       "      <td>99</td>\n",
       "      <td>1</td>\n",
       "      <td>0</td>\n",
       "      <td>18,5</td>\n",
       "      <td>2011</td>\n",
       "      <td>1</td>\n",
       "      <td>18,5833339691162</td>\n",
       "      <td></td>\n",
       "      <td>2</td>\n",
       "    </tr>\n",
       "    <tr>\n",
       "      <th>1</th>\n",
       "      <td>2</td>\n",
       "      <td>3</td>\n",
       "      <td>1</td>\n",
       "      <td>2</td>\n",
       "      <td>1</td>\n",
       "      <td>24</td>\n",
       "      <td>99</td>\n",
       "      <td>2</td>\n",
       "      <td>0</td>\n",
       "      <td>17,1666660308838</td>\n",
       "      <td>2013</td>\n",
       "      <td>1</td>\n",
       "      <td>21,6666660308838</td>\n",
       "      <td></td>\n",
       "      <td>2</td>\n",
       "    </tr>\n",
       "    <tr>\n",
       "      <th>2</th>\n",
       "      <td>2</td>\n",
       "      <td>1</td>\n",
       "      <td>3</td>\n",
       "      <td>2</td>\n",
       "      <td>1</td>\n",
       "      <td>28</td>\n",
       "      <td>99</td>\n",
       "      <td>1</td>\n",
       "      <td>1</td>\n",
       "      <td>23,3333339691162</td>\n",
       "      <td></td>\n",
       "      <td>0</td>\n",
       "      <td></td>\n",
       "      <td>3</td>\n",
       "      <td>2</td>\n",
       "    </tr>\n",
       "    <tr>\n",
       "      <th>3</th>\n",
       "      <td>2</td>\n",
       "      <td>3</td>\n",
       "      <td>3</td>\n",
       "      <td>2</td>\n",
       "      <td>1</td>\n",
       "      <td>31</td>\n",
       "      <td>99</td>\n",
       "      <td>2</td>\n",
       "      <td>1</td>\n",
       "      <td>21,5</td>\n",
       "      <td>2010</td>\n",
       "      <td>0</td>\n",
       "      <td>25</td>\n",
       "      <td>30</td>\n",
       "      <td>2</td>\n",
       "    </tr>\n",
       "    <tr>\n",
       "      <th>4</th>\n",
       "      <td>2</td>\n",
       "      <td>3</td>\n",
       "      <td>3</td>\n",
       "      <td>2</td>\n",
       "      <td>1</td>\n",
       "      <td>25</td>\n",
       "      <td>99</td>\n",
       "      <td>3</td>\n",
       "      <td>0</td>\n",
       "      <td>20,8333339691162</td>\n",
       "      <td>2014</td>\n",
       "      <td>1</td>\n",
       "      <td>23,0833339691162</td>\n",
       "      <td></td>\n",
       "      <td>2</td>\n",
       "    </tr>\n",
       "    <tr>\n",
       "      <th>...</th>\n",
       "      <td>...</td>\n",
       "      <td>...</td>\n",
       "      <td>...</td>\n",
       "      <td>...</td>\n",
       "      <td>...</td>\n",
       "      <td>...</td>\n",
       "      <td>...</td>\n",
       "      <td>...</td>\n",
       "      <td>...</td>\n",
       "      <td>...</td>\n",
       "      <td>...</td>\n",
       "      <td>...</td>\n",
       "      <td>...</td>\n",
       "      <td>...</td>\n",
       "      <td>...</td>\n",
       "    </tr>\n",
       "    <tr>\n",
       "      <th>1995</th>\n",
       "      <td>1</td>\n",
       "      <td>3</td>\n",
       "      <td>2</td>\n",
       "      <td>2</td>\n",
       "      <td>1</td>\n",
       "      <td>27</td>\n",
       "      <td>99</td>\n",
       "      <td>2</td>\n",
       "      <td>1</td>\n",
       "      <td>20</td>\n",
       "      <td>2010</td>\n",
       "      <td>1</td>\n",
       "      <td>21,1666660308838</td>\n",
       "      <td>33</td>\n",
       "      <td>2</td>\n",
       "    </tr>\n",
       "    <tr>\n",
       "      <th>1996</th>\n",
       "      <td>1</td>\n",
       "      <td>1</td>\n",
       "      <td>1</td>\n",
       "      <td>1</td>\n",
       "      <td>2</td>\n",
       "      <td>23</td>\n",
       "      <td></td>\n",
       "      <td>2</td>\n",
       "      <td>1</td>\n",
       "      <td>18,0833339691162</td>\n",
       "      <td></td>\n",
       "      <td>0</td>\n",
       "      <td></td>\n",
       "      <td>0</td>\n",
       "      <td>2</td>\n",
       "    </tr>\n",
       "    <tr>\n",
       "      <th>1997</th>\n",
       "      <td>1</td>\n",
       "      <td>3</td>\n",
       "      <td>3</td>\n",
       "      <td>1</td>\n",
       "      <td>2</td>\n",
       "      <td>31</td>\n",
       "      <td></td>\n",
       "      <td>2</td>\n",
       "      <td>1</td>\n",
       "      <td>21,8333339691162</td>\n",
       "      <td>2010</td>\n",
       "      <td>1</td>\n",
       "      <td>17,0833339691162</td>\n",
       "      <td>0</td>\n",
       "      <td>1</td>\n",
       "    </tr>\n",
       "    <tr>\n",
       "      <th>1998</th>\n",
       "      <td>1</td>\n",
       "      <td>3</td>\n",
       "      <td>3</td>\n",
       "      <td>1</td>\n",
       "      <td>2</td>\n",
       "      <td>30</td>\n",
       "      <td></td>\n",
       "      <td>1</td>\n",
       "      <td>1</td>\n",
       "      <td>25,3333339691162</td>\n",
       "      <td>2016</td>\n",
       "      <td>0</td>\n",
       "      <td>18,0833339691162</td>\n",
       "      <td>24</td>\n",
       "      <td>2</td>\n",
       "    </tr>\n",
       "    <tr>\n",
       "      <th>1999</th>\n",
       "      <td>1</td>\n",
       "      <td>3</td>\n",
       "      <td>1</td>\n",
       "      <td>2</td>\n",
       "      <td>2</td>\n",
       "      <td>21</td>\n",
       "      <td>2</td>\n",
       "      <td>2</td>\n",
       "      <td>1</td>\n",
       "      <td>19,1666660308838</td>\n",
       "      <td>2014</td>\n",
       "      <td>1</td>\n",
       "      <td>19,5833339691162</td>\n",
       "      <td>9</td>\n",
       "      <td>2</td>\n",
       "    </tr>\n",
       "  </tbody>\n",
       "</table>\n",
       "<p>2000 rows × 15 columns</p>\n",
       "</div>"
      ],
      "text/plain": [
       "      Worker  Q501  Educ_3categ_from201  Q102  UrbanRural  ageYr Q702  Q803  \\\n",
       "0          2     3                    3     2           1     24   99     1   \n",
       "1          2     3                    1     2           1     24   99     2   \n",
       "2          2     1                    3     2           1     28   99     1   \n",
       "3          2     3                    3     2           1     31   99     2   \n",
       "4          2     3                    3     2           1     25   99     3   \n",
       "...      ...   ...                  ...   ...         ...    ...  ...   ...   \n",
       "1995       1     3                    2     2           1     27   99     2   \n",
       "1996       1     1                    1     1           2     23          2   \n",
       "1997       1     3                    3     1           2     31          2   \n",
       "1998       1     3                    3     1           2     30          1   \n",
       "1999       1     3                    1     2           2     21    2     2   \n",
       "\n",
       "      fjobexist       ageeducleft fmarrlegYYYY  childexist       agelefthome  \\\n",
       "0             0              18,5         2011           1  18,5833339691162   \n",
       "1             0  17,1666660308838         2013           1  21,6666660308838   \n",
       "2             1  23,3333339691162                        0                     \n",
       "3             1              21,5         2010           0                25   \n",
       "4             0  20,8333339691162         2014           1  23,0833339691162   \n",
       "...         ...               ...          ...         ...               ...   \n",
       "1995          1                20         2010           1  21,1666660308838   \n",
       "1996          1  18,0833339691162                        0                     \n",
       "1997          1  21,8333339691162         2010           1  17,0833339691162   \n",
       "1998          1  25,3333339691162         2016           0  18,0833339691162   \n",
       "1999          1  19,1666660308838         2014           1  19,5833339691162   \n",
       "\n",
       "     educToWork  HaveBeenAbroad  \n",
       "0                             2  \n",
       "1                             2  \n",
       "2             3               2  \n",
       "3            30               2  \n",
       "4                             2  \n",
       "...         ...             ...  \n",
       "1995         33               2  \n",
       "1996          0               2  \n",
       "1997          0               1  \n",
       "1998         24               2  \n",
       "1999          9               2  \n",
       "\n",
       "[2000 rows x 15 columns]"
      ]
     },
     "execution_count": 3,
     "metadata": {},
     "output_type": "execute_result"
    }
   ],
   "source": [
    "df"
   ]
  },
  {
   "cell_type": "code",
   "execution_count": 4,
   "id": "dcaa54a3",
   "metadata": {},
   "outputs": [],
   "source": [
    "#dropping the \"no answers\"\n",
    "df.dropna(inplace=True,axis=0)"
   ]
  },
  {
   "cell_type": "code",
   "execution_count": 5,
   "id": "0dacb95f",
   "metadata": {},
   "outputs": [],
   "source": [
    "#renaming the variables\n",
    "df.rename(columns={'Q702':'wearHijab','Educ_3categ_from201':'edlevel',\n",
    "                   'Q803':'health','Q102':'Gender'}, inplace=True)"
   ]
  },
  {
   "cell_type": "code",
   "execution_count": 6,
   "id": "7fcefa2b",
   "metadata": {},
   "outputs": [
    {
     "data": {
      "text/plain": [
       "Worker            0\n",
       "Q501              0\n",
       "edlevel           0\n",
       "Gender            0\n",
       "UrbanRural        0\n",
       "ageYr             0\n",
       "wearHijab         0\n",
       "health            0\n",
       "fjobexist         0\n",
       "ageeducleft       0\n",
       "fmarrlegYYYY      0\n",
       "childexist        0\n",
       "agelefthome       0\n",
       "educToWork        0\n",
       "HaveBeenAbroad    0\n",
       "dtype: int64"
      ]
     },
     "execution_count": 6,
     "metadata": {},
     "output_type": "execute_result"
    }
   ],
   "source": [
    "#finding the empty or missing values\n",
    "df.isnull().sum()"
   ]
  },
  {
   "cell_type": "code",
   "execution_count": 7,
   "id": "5425599d",
   "metadata": {},
   "outputs": [
    {
     "data": {
      "text/html": [
       "<div>\n",
       "<style scoped>\n",
       "    .dataframe tbody tr th:only-of-type {\n",
       "        vertical-align: middle;\n",
       "    }\n",
       "\n",
       "    .dataframe tbody tr th {\n",
       "        vertical-align: top;\n",
       "    }\n",
       "\n",
       "    .dataframe thead th {\n",
       "        text-align: right;\n",
       "    }\n",
       "</style>\n",
       "<table border=\"1\" class=\"dataframe\">\n",
       "  <thead>\n",
       "    <tr style=\"text-align: right;\">\n",
       "      <th></th>\n",
       "      <th>Worker</th>\n",
       "      <th>Q501</th>\n",
       "      <th>edlevel</th>\n",
       "      <th>Gender</th>\n",
       "      <th>UrbanRural</th>\n",
       "      <th>ageYr</th>\n",
       "      <th>health</th>\n",
       "      <th>fjobexist</th>\n",
       "      <th>childexist</th>\n",
       "      <th>HaveBeenAbroad</th>\n",
       "    </tr>\n",
       "  </thead>\n",
       "  <tbody>\n",
       "    <tr>\n",
       "      <th>Worker</th>\n",
       "      <td>1.000000</td>\n",
       "      <td>-0.073569</td>\n",
       "      <td>-0.323764</td>\n",
       "      <td>0.172026</td>\n",
       "      <td>0.056298</td>\n",
       "      <td>-0.247759</td>\n",
       "      <td>0.138029</td>\n",
       "      <td>-0.533739</td>\n",
       "      <td>-0.078068</td>\n",
       "      <td>-0.052510</td>\n",
       "    </tr>\n",
       "    <tr>\n",
       "      <th>Q501</th>\n",
       "      <td>-0.073569</td>\n",
       "      <td>1.000000</td>\n",
       "      <td>0.122178</td>\n",
       "      <td>0.158964</td>\n",
       "      <td>-0.014888</td>\n",
       "      <td>0.447059</td>\n",
       "      <td>0.057600</td>\n",
       "      <td>0.044359</td>\n",
       "      <td>0.681221</td>\n",
       "      <td>-0.027302</td>\n",
       "    </tr>\n",
       "    <tr>\n",
       "      <th>edlevel</th>\n",
       "      <td>-0.323764</td>\n",
       "      <td>0.122178</td>\n",
       "      <td>1.000000</td>\n",
       "      <td>-0.194398</td>\n",
       "      <td>-0.131578</td>\n",
       "      <td>0.513776</td>\n",
       "      <td>-0.071834</td>\n",
       "      <td>0.346593</td>\n",
       "      <td>0.138983</td>\n",
       "      <td>0.052083</td>\n",
       "    </tr>\n",
       "    <tr>\n",
       "      <th>Gender</th>\n",
       "      <td>0.172026</td>\n",
       "      <td>0.158964</td>\n",
       "      <td>-0.194398</td>\n",
       "      <td>1.000000</td>\n",
       "      <td>-0.042977</td>\n",
       "      <td>-0.095354</td>\n",
       "      <td>0.029528</td>\n",
       "      <td>-0.422441</td>\n",
       "      <td>0.149372</td>\n",
       "      <td>0.135158</td>\n",
       "    </tr>\n",
       "    <tr>\n",
       "      <th>UrbanRural</th>\n",
       "      <td>0.056298</td>\n",
       "      <td>-0.014888</td>\n",
       "      <td>-0.131578</td>\n",
       "      <td>-0.042977</td>\n",
       "      <td>1.000000</td>\n",
       "      <td>-0.058697</td>\n",
       "      <td>0.065769</td>\n",
       "      <td>-0.048717</td>\n",
       "      <td>-0.028924</td>\n",
       "      <td>-0.034708</td>\n",
       "    </tr>\n",
       "    <tr>\n",
       "      <th>ageYr</th>\n",
       "      <td>-0.247759</td>\n",
       "      <td>0.447059</td>\n",
       "      <td>0.513776</td>\n",
       "      <td>-0.095354</td>\n",
       "      <td>-0.058697</td>\n",
       "      <td>1.000000</td>\n",
       "      <td>0.046416</td>\n",
       "      <td>0.279469</td>\n",
       "      <td>0.505490</td>\n",
       "      <td>-0.045511</td>\n",
       "    </tr>\n",
       "    <tr>\n",
       "      <th>health</th>\n",
       "      <td>0.138029</td>\n",
       "      <td>0.057600</td>\n",
       "      <td>-0.071834</td>\n",
       "      <td>0.029528</td>\n",
       "      <td>0.065769</td>\n",
       "      <td>0.046416</td>\n",
       "      <td>1.000000</td>\n",
       "      <td>-0.084341</td>\n",
       "      <td>0.035702</td>\n",
       "      <td>0.013206</td>\n",
       "    </tr>\n",
       "    <tr>\n",
       "      <th>fjobexist</th>\n",
       "      <td>-0.533739</td>\n",
       "      <td>0.044359</td>\n",
       "      <td>0.346593</td>\n",
       "      <td>-0.422441</td>\n",
       "      <td>-0.048717</td>\n",
       "      <td>0.279469</td>\n",
       "      <td>-0.084341</td>\n",
       "      <td>1.000000</td>\n",
       "      <td>0.022049</td>\n",
       "      <td>-0.122682</td>\n",
       "    </tr>\n",
       "    <tr>\n",
       "      <th>childexist</th>\n",
       "      <td>-0.078068</td>\n",
       "      <td>0.681221</td>\n",
       "      <td>0.138983</td>\n",
       "      <td>0.149372</td>\n",
       "      <td>-0.028924</td>\n",
       "      <td>0.505490</td>\n",
       "      <td>0.035702</td>\n",
       "      <td>0.022049</td>\n",
       "      <td>1.000000</td>\n",
       "      <td>-0.001218</td>\n",
       "    </tr>\n",
       "    <tr>\n",
       "      <th>HaveBeenAbroad</th>\n",
       "      <td>-0.052510</td>\n",
       "      <td>-0.027302</td>\n",
       "      <td>0.052083</td>\n",
       "      <td>0.135158</td>\n",
       "      <td>-0.034708</td>\n",
       "      <td>-0.045511</td>\n",
       "      <td>0.013206</td>\n",
       "      <td>-0.122682</td>\n",
       "      <td>-0.001218</td>\n",
       "      <td>1.000000</td>\n",
       "    </tr>\n",
       "  </tbody>\n",
       "</table>\n",
       "</div>"
      ],
      "text/plain": [
       "                  Worker      Q501   edlevel    Gender  UrbanRural     ageYr  \\\n",
       "Worker          1.000000 -0.073569 -0.323764  0.172026    0.056298 -0.247759   \n",
       "Q501           -0.073569  1.000000  0.122178  0.158964   -0.014888  0.447059   \n",
       "edlevel        -0.323764  0.122178  1.000000 -0.194398   -0.131578  0.513776   \n",
       "Gender          0.172026  0.158964 -0.194398  1.000000   -0.042977 -0.095354   \n",
       "UrbanRural      0.056298 -0.014888 -0.131578 -0.042977    1.000000 -0.058697   \n",
       "ageYr          -0.247759  0.447059  0.513776 -0.095354   -0.058697  1.000000   \n",
       "health          0.138029  0.057600 -0.071834  0.029528    0.065769  0.046416   \n",
       "fjobexist      -0.533739  0.044359  0.346593 -0.422441   -0.048717  0.279469   \n",
       "childexist     -0.078068  0.681221  0.138983  0.149372   -0.028924  0.505490   \n",
       "HaveBeenAbroad -0.052510 -0.027302  0.052083  0.135158   -0.034708 -0.045511   \n",
       "\n",
       "                  health  fjobexist  childexist  HaveBeenAbroad  \n",
       "Worker          0.138029  -0.533739   -0.078068       -0.052510  \n",
       "Q501            0.057600   0.044359    0.681221       -0.027302  \n",
       "edlevel        -0.071834   0.346593    0.138983        0.052083  \n",
       "Gender          0.029528  -0.422441    0.149372        0.135158  \n",
       "UrbanRural      0.065769  -0.048717   -0.028924       -0.034708  \n",
       "ageYr           0.046416   0.279469    0.505490       -0.045511  \n",
       "health          1.000000  -0.084341    0.035702        0.013206  \n",
       "fjobexist      -0.084341   1.000000    0.022049       -0.122682  \n",
       "childexist      0.035702   0.022049    1.000000       -0.001218  \n",
       "HaveBeenAbroad  0.013206  -0.122682   -0.001218        1.000000  "
      ]
     },
     "execution_count": 7,
     "metadata": {},
     "output_type": "execute_result"
    }
   ],
   "source": [
    "#defining the correlation between the variables\n",
    "df.corr()"
   ]
  },
  {
   "cell_type": "code",
   "execution_count": 8,
   "id": "66f808aa",
   "metadata": {},
   "outputs": [],
   "source": [
    "#recoding into dummy variables\n",
    "df.at[df['Worker']==1,'isWorker']=1\n",
    "df.at[df['Worker']==2,'isWorker']=0"
   ]
  },
  {
   "cell_type": "code",
   "execution_count": 9,
   "id": "4c4a221c",
   "metadata": {},
   "outputs": [],
   "source": [
    "#defining a dependent variable\n",
    "y=df['isWorker']"
   ]
  },
  {
   "cell_type": "code",
   "execution_count": 10,
   "id": "2abb0fb1",
   "metadata": {},
   "outputs": [],
   "source": [
    "df.at[df['UrbanRural']==1,'Urban']=1\n",
    "df.at[df['UrbanRural']==2,'Urban']=0"
   ]
  },
  {
   "cell_type": "code",
   "execution_count": 11,
   "id": "2e03a3be",
   "metadata": {},
   "outputs": [
    {
     "data": {
      "text/plain": [
       "1    1326\n",
       "0     674\n",
       "Name: married, dtype: int64"
      ]
     },
     "execution_count": 11,
     "metadata": {},
     "output_type": "execute_result"
    }
   ],
   "source": [
    "df['married'] = df['Q501'].replace((1,2,3,4,5,6),(0,0,1,0,0,0))\n",
    "df['married'].value_counts()"
   ]
  },
  {
   "cell_type": "code",
   "execution_count": 12,
   "id": "4b680140",
   "metadata": {},
   "outputs": [
    {
     "data": {
      "text/plain": [
       "0    1535\n",
       "1     465\n",
       "Name: BeenAbroad, dtype: int64"
      ]
     },
     "execution_count": 12,
     "metadata": {},
     "output_type": "execute_result"
    }
   ],
   "source": [
    "df['BeenAbroad'] = df['HaveBeenAbroad'].replace((2, 3),(0,1))\n",
    "df['BeenAbroad'].value_counts()"
   ]
  },
  {
   "cell_type": "code",
   "execution_count": 13,
   "id": "1f488ad5",
   "metadata": {},
   "outputs": [
    {
     "data": {
      "text/plain": [
       "0    1004\n",
       "1     996\n",
       "Name: isFemale, dtype: int64"
      ]
     },
     "execution_count": 13,
     "metadata": {},
     "output_type": "execute_result"
    }
   ],
   "source": [
    "df['isFemale'] = df['Gender'].replace((1, 2),(0,1))\n",
    "df['isFemale'].value_counts()"
   ]
  },
  {
   "cell_type": "code",
   "execution_count": 14,
   "id": "67121125",
   "metadata": {},
   "outputs": [
    {
     "data": {
      "text/plain": [
       "0       0\n",
       "1       0\n",
       "2       0\n",
       "3       0\n",
       "4       0\n",
       "       ..\n",
       "1995    0\n",
       "1996    0\n",
       "1997    1\n",
       "1998    0\n",
       "1999    0\n",
       "Name: BeenAbroad, Length: 2000, dtype: int64"
      ]
     },
     "execution_count": 14,
     "metadata": {},
     "output_type": "execute_result"
    }
   ],
   "source": [
    "df['BeenAbroad']"
   ]
  },
  {
   "cell_type": "code",
   "execution_count": 15,
   "id": "034a0c35",
   "metadata": {},
   "outputs": [
    {
     "data": {
      "text/plain": [
       "2    944\n",
       "1    790\n",
       "3    241\n",
       "4     24\n",
       "5      1\n",
       "Name: health, dtype: int64"
      ]
     },
     "execution_count": 15,
     "metadata": {},
     "output_type": "execute_result"
    }
   ],
   "source": [
    "df['health'].value_counts()"
   ]
  },
  {
   "cell_type": "code",
   "execution_count": 16,
   "id": "c62cf7af",
   "metadata": {},
   "outputs": [
    {
     "data": {
      "text/plain": [
       "1    1975\n",
       "0      25\n",
       "Name: healthy, dtype: int64"
      ]
     },
     "execution_count": 16,
     "metadata": {},
     "output_type": "execute_result"
    }
   ],
   "source": [
    "df['healthy'] = df['health'].replace((1,2,3,4,5),(1,1,1,0,0))\n",
    "df['healthy'].value_counts()"
   ]
  },
  {
   "cell_type": "code",
   "execution_count": 17,
   "id": "3682f81b",
   "metadata": {},
   "outputs": [
    {
     "data": {
      "text/html": [
       "<div>\n",
       "<style scoped>\n",
       "    .dataframe tbody tr th:only-of-type {\n",
       "        vertical-align: middle;\n",
       "    }\n",
       "\n",
       "    .dataframe tbody tr th {\n",
       "        vertical-align: top;\n",
       "    }\n",
       "\n",
       "    .dataframe thead th {\n",
       "        text-align: right;\n",
       "    }\n",
       "</style>\n",
       "<table border=\"1\" class=\"dataframe\">\n",
       "  <thead>\n",
       "    <tr style=\"text-align: right;\">\n",
       "      <th></th>\n",
       "      <th>educlevel_1</th>\n",
       "      <th>educlevel_2</th>\n",
       "      <th>educlevel_3</th>\n",
       "    </tr>\n",
       "  </thead>\n",
       "  <tbody>\n",
       "    <tr>\n",
       "      <th>0</th>\n",
       "      <td>0</td>\n",
       "      <td>0</td>\n",
       "      <td>1</td>\n",
       "    </tr>\n",
       "    <tr>\n",
       "      <th>1</th>\n",
       "      <td>1</td>\n",
       "      <td>0</td>\n",
       "      <td>0</td>\n",
       "    </tr>\n",
       "    <tr>\n",
       "      <th>2</th>\n",
       "      <td>0</td>\n",
       "      <td>0</td>\n",
       "      <td>1</td>\n",
       "    </tr>\n",
       "    <tr>\n",
       "      <th>3</th>\n",
       "      <td>0</td>\n",
       "      <td>0</td>\n",
       "      <td>1</td>\n",
       "    </tr>\n",
       "    <tr>\n",
       "      <th>4</th>\n",
       "      <td>0</td>\n",
       "      <td>0</td>\n",
       "      <td>1</td>\n",
       "    </tr>\n",
       "    <tr>\n",
       "      <th>...</th>\n",
       "      <td>...</td>\n",
       "      <td>...</td>\n",
       "      <td>...</td>\n",
       "    </tr>\n",
       "    <tr>\n",
       "      <th>1995</th>\n",
       "      <td>0</td>\n",
       "      <td>1</td>\n",
       "      <td>0</td>\n",
       "    </tr>\n",
       "    <tr>\n",
       "      <th>1996</th>\n",
       "      <td>1</td>\n",
       "      <td>0</td>\n",
       "      <td>0</td>\n",
       "    </tr>\n",
       "    <tr>\n",
       "      <th>1997</th>\n",
       "      <td>0</td>\n",
       "      <td>0</td>\n",
       "      <td>1</td>\n",
       "    </tr>\n",
       "    <tr>\n",
       "      <th>1998</th>\n",
       "      <td>0</td>\n",
       "      <td>0</td>\n",
       "      <td>1</td>\n",
       "    </tr>\n",
       "    <tr>\n",
       "      <th>1999</th>\n",
       "      <td>1</td>\n",
       "      <td>0</td>\n",
       "      <td>0</td>\n",
       "    </tr>\n",
       "  </tbody>\n",
       "</table>\n",
       "<p>2000 rows × 3 columns</p>\n",
       "</div>"
      ],
      "text/plain": [
       "      educlevel_1  educlevel_2  educlevel_3\n",
       "0               0            0            1\n",
       "1               1            0            0\n",
       "2               0            0            1\n",
       "3               0            0            1\n",
       "4               0            0            1\n",
       "...           ...          ...          ...\n",
       "1995            0            1            0\n",
       "1996            1            0            0\n",
       "1997            0            0            1\n",
       "1998            0            0            1\n",
       "1999            1            0            0\n",
       "\n",
       "[2000 rows x 3 columns]"
      ]
     },
     "execution_count": 17,
     "metadata": {},
     "output_type": "execute_result"
    }
   ],
   "source": [
    "education = pd.get_dummies(df[\"edlevel\"], prefix=\"educlevel\", dummy_na=False)\n",
    "education"
   ]
  },
  {
   "cell_type": "code",
   "execution_count": 18,
   "id": "47cac69f",
   "metadata": {},
   "outputs": [],
   "source": [
    "df = pd.concat([df, education], axis=1)"
   ]
  },
  {
   "cell_type": "code",
   "execution_count": 19,
   "id": "354dfb43",
   "metadata": {},
   "outputs": [],
   "source": [
    "#defining independent variable\n",
    "X=df[['childexist','Urban',\n",
    "      'isFemale','BeenAbroad',\n",
    "      'educlevel_1','educlevel_2','educlevel_3',\n",
    "      'healthy','ageYr','fjobexist','married']]"
   ]
  },
  {
   "cell_type": "code",
   "execution_count": 20,
   "id": "7221b4f9",
   "metadata": {},
   "outputs": [
    {
     "name": "stdout",
     "output_type": "stream",
     "text": [
      "<class 'pandas.core.frame.DataFrame'>\n",
      "Int64Index: 2000 entries, 0 to 1999\n",
      "Data columns (total 11 columns):\n",
      " #   Column       Non-Null Count  Dtype  \n",
      "---  ------       --------------  -----  \n",
      " 0   childexist   2000 non-null   int64  \n",
      " 1   Urban        2000 non-null   float64\n",
      " 2   isFemale     2000 non-null   int64  \n",
      " 3   BeenAbroad   2000 non-null   int64  \n",
      " 4   educlevel_1  2000 non-null   uint8  \n",
      " 5   educlevel_2  2000 non-null   uint8  \n",
      " 6   educlevel_3  2000 non-null   uint8  \n",
      " 7   healthy      2000 non-null   int64  \n",
      " 8   ageYr        2000 non-null   int64  \n",
      " 9   fjobexist    2000 non-null   int64  \n",
      " 10  married      2000 non-null   int64  \n",
      "dtypes: float64(1), int64(7), uint8(3)\n",
      "memory usage: 211.0 KB\n"
     ]
    }
   ],
   "source": [
    "X.info()"
   ]
  },
  {
   "cell_type": "code",
   "execution_count": 21,
   "id": "2cc8e2f6",
   "metadata": {},
   "outputs": [],
   "source": [
    "from sklearn.model_selection import train_test_split\n"
   ]
  },
  {
   "cell_type": "code",
   "execution_count": 22,
   "id": "544a8add",
   "metadata": {},
   "outputs": [],
   "source": [
    "#splitting dataset into training set and test set\n",
    "X_train,X_test,y_train,y_test = train_test_split(X,y,test_size=0.3,random_state=42)"
   ]
  },
  {
   "cell_type": "code",
   "execution_count": 23,
   "id": "6026c448",
   "metadata": {},
   "outputs": [],
   "source": [
    "#Linear Regression"
   ]
  },
  {
   "cell_type": "code",
   "execution_count": 24,
   "id": "67d2c872",
   "metadata": {},
   "outputs": [],
   "source": [
    "from sklearn.linear_model import LinearRegression"
   ]
  },
  {
   "cell_type": "code",
   "execution_count": 25,
   "id": "eaf2fb62",
   "metadata": {},
   "outputs": [],
   "source": [
    "#instantiate the model\n",
    "linreg = LinearRegression()"
   ]
  },
  {
   "cell_type": "code",
   "execution_count": 26,
   "id": "47d61a71",
   "metadata": {},
   "outputs": [
    {
     "data": {
      "text/plain": [
       "LinearRegression()"
      ]
     },
     "execution_count": 26,
     "metadata": {},
     "output_type": "execute_result"
    }
   ],
   "source": [
    "#fit the model using the training data\n",
    "linreg.fit(X_train,y_train)"
   ]
  },
  {
   "cell_type": "code",
   "execution_count": 27,
   "id": "30426550",
   "metadata": {},
   "outputs": [],
   "source": [
    "y_pred = linreg.predict(X_test)"
   ]
  },
  {
   "cell_type": "code",
   "execution_count": 28,
   "id": "fb9bf9f6",
   "metadata": {},
   "outputs": [
    {
     "name": "stdout",
     "output_type": "stream",
     "text": [
      "(600,)\n",
      "(600, 11)\n",
      "(1400, 11)\n",
      "(600,)\n",
      "(1400,)\n"
     ]
    }
   ],
   "source": [
    "print(y_pred.shape)\n",
    "print(X_test.shape)\n",
    "print(X_train.shape)\n",
    "print(y_test.shape)\n",
    "print(y_train.shape)\n"
   ]
  },
  {
   "cell_type": "code",
   "execution_count": 29,
   "id": "655d97c5",
   "metadata": {},
   "outputs": [],
   "source": [
    "r2=linreg.score(X_test,y_test)"
   ]
  },
  {
   "cell_type": "code",
   "execution_count": 30,
   "id": "9b0f70f5",
   "metadata": {},
   "outputs": [],
   "source": [
    "import statsmodels.api as sm\n",
    "model = sm.OLS(y,X)"
   ]
  },
  {
   "cell_type": "code",
   "execution_count": 31,
   "id": "88496baa",
   "metadata": {},
   "outputs": [],
   "source": [
    "result=model.fit()"
   ]
  },
  {
   "cell_type": "code",
   "execution_count": 32,
   "id": "10a2ed1a",
   "metadata": {},
   "outputs": [
    {
     "data": {
      "text/plain": [
       "0.40054752385502235"
      ]
     },
     "execution_count": 32,
     "metadata": {},
     "output_type": "execute_result"
    }
   ],
   "source": [
    "r2=result.rsquared\n",
    "r2"
   ]
  },
  {
   "cell_type": "code",
   "execution_count": 33,
   "id": "b5af2b16",
   "metadata": {},
   "outputs": [
    {
     "name": "stdout",
     "output_type": "stream",
     "text": [
      "                            OLS Regression Results                            \n",
      "==============================================================================\n",
      "Dep. Variable:               isWorker   R-squared:                       0.401\n",
      "Model:                            OLS   Adj. R-squared:                  0.398\n",
      "Method:                 Least Squares   F-statistic:                     132.9\n",
      "Date:                Thu, 27 Jan 2022   Prob (F-statistic):          1.01e-212\n",
      "Time:                        09:59:27   Log-Likelihood:                -937.14\n",
      "No. Observations:                2000   AIC:                             1896.\n",
      "Df Residuals:                    1989   BIC:                             1958.\n",
      "Df Model:                          10                                         \n",
      "Covariance Type:            nonrobust                                         \n",
      "===============================================================================\n",
      "                  coef    std err          t      P>|t|      [0.025      0.975]\n",
      "-------------------------------------------------------------------------------\n",
      "childexist      0.0115      0.027      0.419      0.675      -0.042       0.065\n",
      "Urban          -0.0234      0.020     -1.176      0.240      -0.062       0.016\n",
      "isFemale       -0.0724      0.021     -3.398      0.001      -0.114      -0.031\n",
      "BeenAbroad     -0.4253      0.025    -16.893      0.000      -0.475      -0.376\n",
      "educlevel_1    -0.0759      0.104     -0.730      0.466      -0.280       0.128\n",
      "educlevel_2    -0.0475      0.112     -0.424      0.672      -0.267       0.172\n",
      "educlevel_3    -0.0212      0.113     -0.187      0.852      -0.243       0.201\n",
      "healthy         0.0739      0.079      0.942      0.346      -0.080       0.228\n",
      "ageYr           0.0088      0.003      2.815      0.005       0.003       0.015\n",
      "fjobexist       0.6388      0.022     28.510      0.000       0.595       0.683\n",
      "married         0.0058      0.027      0.214      0.830      -0.047       0.059\n",
      "==============================================================================\n",
      "Omnibus:                        1.794   Durbin-Watson:                   1.279\n",
      "Prob(Omnibus):                  0.408   Jarque-Bera (JB):                1.780\n",
      "Skew:                           0.020   Prob(JB):                        0.411\n",
      "Kurtosis:                       3.141   Cond. No.                         576.\n",
      "==============================================================================\n",
      "\n",
      "Notes:\n",
      "[1] Standard Errors assume that the covariance matrix of the errors is correctly specified.\n"
     ]
    }
   ],
   "source": [
    "print(result.summary())"
   ]
  },
  {
   "cell_type": "code",
   "execution_count": 34,
   "id": "ab04bd64",
   "metadata": {},
   "outputs": [],
   "source": [
    "#Logistic Regression"
   ]
  },
  {
   "cell_type": "code",
   "execution_count": 35,
   "id": "3ae36321",
   "metadata": {},
   "outputs": [],
   "source": [
    "from sklearn.linear_model import LogisticRegression"
   ]
  },
  {
   "cell_type": "code",
   "execution_count": 36,
   "id": "3ee7e579",
   "metadata": {},
   "outputs": [],
   "source": [
    "logreg = LogisticRegression()"
   ]
  },
  {
   "cell_type": "code",
   "execution_count": 37,
   "id": "26b13ace",
   "metadata": {},
   "outputs": [
    {
     "name": "stderr",
     "output_type": "stream",
     "text": [
      "C:\\Users\\Jahongir\\anaconda3\\lib\\site-packages\\sklearn\\linear_model\\_logistic.py:763: ConvergenceWarning: lbfgs failed to converge (status=1):\n",
      "STOP: TOTAL NO. of ITERATIONS REACHED LIMIT.\n",
      "\n",
      "Increase the number of iterations (max_iter) or scale the data as shown in:\n",
      "    https://scikit-learn.org/stable/modules/preprocessing.html\n",
      "Please also refer to the documentation for alternative solver options:\n",
      "    https://scikit-learn.org/stable/modules/linear_model.html#logistic-regression\n",
      "  n_iter_i = _check_optimize_result(\n"
     ]
    },
    {
     "data": {
      "text/plain": [
       "LogisticRegression()"
      ]
     },
     "execution_count": 37,
     "metadata": {},
     "output_type": "execute_result"
    }
   ],
   "source": [
    "logreg.fit(X_train,y_train)\n"
   ]
  },
  {
   "cell_type": "code",
   "execution_count": 38,
   "id": "7ec536af",
   "metadata": {},
   "outputs": [],
   "source": [
    "y_pred = logreg.predict(X_test)"
   ]
  },
  {
   "cell_type": "code",
   "execution_count": 39,
   "id": "f1256a36",
   "metadata": {},
   "outputs": [],
   "source": [
    "a=logreg.score(X_test,y_test)"
   ]
  },
  {
   "cell_type": "code",
   "execution_count": 40,
   "id": "40eae887",
   "metadata": {},
   "outputs": [
    {
     "data": {
      "text/plain": [
       "0.79"
      ]
     },
     "execution_count": 40,
     "metadata": {},
     "output_type": "execute_result"
    }
   ],
   "source": [
    "a"
   ]
  },
  {
   "cell_type": "code",
   "execution_count": 41,
   "id": "7c7c8552",
   "metadata": {},
   "outputs": [
    {
     "data": {
      "text/plain": [
       "array([[222,  50],\n",
       "       [ 76, 252]], dtype=int64)"
      ]
     },
     "execution_count": 41,
     "metadata": {},
     "output_type": "execute_result"
    }
   ],
   "source": [
    "#model diagnostics\n",
    "from sklearn import metrics\n",
    "cnf_matrix = metrics.confusion_matrix(y_test, y_pred)\n",
    "cnf_matrix\n"
   ]
  },
  {
   "cell_type": "code",
   "execution_count": 42,
   "id": "e3da2e63",
   "metadata": {},
   "outputs": [],
   "source": [
    "#Desicion Tree"
   ]
  },
  {
   "cell_type": "code",
   "execution_count": 43,
   "id": "d4d58423",
   "metadata": {},
   "outputs": [
    {
     "data": {
      "text/plain": [
       "DecisionTreeClassifier(max_depth=4)"
      ]
     },
     "execution_count": 43,
     "metadata": {},
     "output_type": "execute_result"
    }
   ],
   "source": [
    "from sklearn.tree import DecisionTreeClassifier\n",
    "model_tree = DecisionTreeClassifier(max_depth=4)\n",
    "model_tree.fit(X_train, y_train)"
   ]
  },
  {
   "cell_type": "code",
   "execution_count": 44,
   "id": "1ee5db5f",
   "metadata": {},
   "outputs": [],
   "source": [
    "y_pred = model_tree.predict(X_test)"
   ]
  },
  {
   "cell_type": "code",
   "execution_count": 45,
   "id": "f31ac99d",
   "metadata": {},
   "outputs": [
    {
     "data": {
      "text/plain": [
       "0.765"
      ]
     },
     "execution_count": 45,
     "metadata": {},
     "output_type": "execute_result"
    }
   ],
   "source": [
    "from sklearn.metrics import accuracy_score\n",
    "c=accuracy_score(y_test, y_pred)\n",
    "c"
   ]
  },
  {
   "cell_type": "code",
   "execution_count": 46,
   "id": "01928bbd",
   "metadata": {},
   "outputs": [],
   "source": [
    "#Random Forest"
   ]
  },
  {
   "cell_type": "code",
   "execution_count": 47,
   "id": "3f30f1f8",
   "metadata": {},
   "outputs": [],
   "source": [
    "from sklearn.ensemble import RandomForestClassifier"
   ]
  },
  {
   "cell_type": "code",
   "execution_count": 48,
   "id": "f540e28d",
   "metadata": {},
   "outputs": [],
   "source": [
    "forest = RandomForestClassifier(criterion='gini',\n",
    "                                 n_estimators=10,\n",
    "                                 random_state=1,\n",
    "                                 n_jobs=2)"
   ]
  },
  {
   "cell_type": "code",
   "execution_count": 49,
   "id": "30cbe492",
   "metadata": {},
   "outputs": [
    {
     "data": {
      "text/plain": [
       "0.7416666666666667"
      ]
     },
     "execution_count": 49,
     "metadata": {},
     "output_type": "execute_result"
    }
   ],
   "source": [
    "forest.fit(X_train, y_train)\n",
    "y_pred = forest.predict(X_test)\n",
    "d= accuracy_score(y_test, y_pred)\n",
    "d"
   ]
  },
  {
   "cell_type": "code",
   "execution_count": 50,
   "id": "4dcf2f88",
   "metadata": {},
   "outputs": [],
   "source": [
    "#kNN"
   ]
  },
  {
   "cell_type": "code",
   "execution_count": 51,
   "id": "7142f8a3",
   "metadata": {},
   "outputs": [],
   "source": [
    "from sklearn.preprocessing import StandardScaler \n",
    "sc = StandardScaler() \n",
    "X_train = sc.fit_transform (X_train) \n",
    "X_test = sc.transform (X_test)"
   ]
  },
  {
   "cell_type": "code",
   "execution_count": 52,
   "id": "47fde68d",
   "metadata": {},
   "outputs": [
    {
     "data": {
      "text/plain": [
       "0.745"
      ]
     },
     "execution_count": 52,
     "metadata": {},
     "output_type": "execute_result"
    }
   ],
   "source": [
    "from sklearn.neighbors import KNeighborsClassifier\n",
    "knn = KNeighborsClassifier(n_neighbors=10)\n",
    "knn.fit(X_train, y_train)\n",
    "e=knn.score(X_test, y_test)\n",
    "e"
   ]
  },
  {
   "cell_type": "code",
   "execution_count": 53,
   "id": "4c1de8ad",
   "metadata": {},
   "outputs": [],
   "source": [
    "y_pred = knn.predict (X_test)"
   ]
  },
  {
   "cell_type": "code",
   "execution_count": 54,
   "id": "b938cac2",
   "metadata": {},
   "outputs": [
    {
     "name": "stdout",
     "output_type": "stream",
     "text": [
      "[[204  68]\n",
      " [ 85 243]]\n"
     ]
    }
   ],
   "source": [
    "from sklearn.metrics import confusion_matrix, precision_score \n",
    "cm = confusion_matrix (y_test, y_pred) \n",
    "print(cm)"
   ]
  },
  {
   "cell_type": "code",
   "execution_count": 55,
   "id": "68eefacc",
   "metadata": {},
   "outputs": [],
   "source": [
    "#SVC"
   ]
  },
  {
   "cell_type": "code",
   "execution_count": 56,
   "id": "e30329c3",
   "metadata": {},
   "outputs": [
    {
     "data": {
      "text/plain": [
       "SVC(degree=8, kernel='poly')"
      ]
     },
     "execution_count": 56,
     "metadata": {},
     "output_type": "execute_result"
    }
   ],
   "source": [
    "from sklearn.svm import SVC\n",
    "svclassifier = SVC(kernel='poly', degree=8)\n",
    "svclassifier.fit(X_train, y_train)"
   ]
  },
  {
   "cell_type": "code",
   "execution_count": 57,
   "id": "36202765",
   "metadata": {},
   "outputs": [],
   "source": [
    "y_pred = svclassifier.predict(X_test)"
   ]
  },
  {
   "cell_type": "code",
   "execution_count": 58,
   "id": "60166189",
   "metadata": {},
   "outputs": [
    {
     "name": "stdout",
     "output_type": "stream",
     "text": [
      "[[202  70]\n",
      " [ 72 256]]\n",
      "              precision    recall  f1-score   support\n",
      "\n",
      "         0.0       0.74      0.74      0.74       272\n",
      "         1.0       0.79      0.78      0.78       328\n",
      "\n",
      "    accuracy                           0.76       600\n",
      "   macro avg       0.76      0.76      0.76       600\n",
      "weighted avg       0.76      0.76      0.76       600\n",
      "\n"
     ]
    }
   ],
   "source": [
    "from sklearn.metrics import classification_report, confusion_matrix\n",
    "print(confusion_matrix(y_test, y_pred))\n",
    "print(classification_report(y_test, y_pred))"
   ]
  },
  {
   "cell_type": "code",
   "execution_count": 59,
   "id": "34054327",
   "metadata": {},
   "outputs": [
    {
     "data": {
      "text/plain": [
       "0.7633333333333333"
      ]
     },
     "execution_count": 59,
     "metadata": {},
     "output_type": "execute_result"
    }
   ],
   "source": [
    "f=svclassifier.score(X_test,y_test)\n",
    "f"
   ]
  },
  {
   "cell_type": "code",
   "execution_count": 60,
   "id": "35275f01",
   "metadata": {},
   "outputs": [],
   "source": [
    "#GradientBoosting"
   ]
  },
  {
   "cell_type": "code",
   "execution_count": 61,
   "id": "cb589343",
   "metadata": {},
   "outputs": [],
   "source": [
    "from sklearn.ensemble import GradientBoostingRegressor\n"
   ]
  },
  {
   "cell_type": "code",
   "execution_count": 62,
   "id": "e7b90674",
   "metadata": {},
   "outputs": [
    {
     "data": {
      "text/plain": [
       "array([0.43772799, 0.43772799, 0.60026428, ..., 0.52513824, 0.60026428,\n",
       "       0.58082526])"
      ]
     },
     "execution_count": 62,
     "metadata": {},
     "output_type": "execute_result"
    }
   ],
   "source": [
    "GB=GradientBoostingRegressor(n_estimators=2)\n",
    "GB.fit(X,y)\n",
    "y_pred=GB.predict(X) #ages predicted by model with 2 estimators \n",
    "y_pred"
   ]
  },
  {
   "cell_type": "code",
   "execution_count": 63,
   "id": "ab361329",
   "metadata": {},
   "outputs": [
    {
     "data": {
      "text/plain": [
       "0.13691647034048804"
      ]
     },
     "execution_count": 63,
     "metadata": {},
     "output_type": "execute_result"
    }
   ],
   "source": [
    "g=GB.score(X_test,y_test)\n",
    "g"
   ]
  },
  {
   "cell_type": "code",
   "execution_count": 64,
   "id": "5c5fde8a",
   "metadata": {},
   "outputs": [],
   "source": [
    "#XGBoost"
   ]
  },
  {
   "cell_type": "code",
   "execution_count": 65,
   "id": "c612fb73",
   "metadata": {},
   "outputs": [
    {
     "name": "stdout",
     "output_type": "stream",
     "text": [
      "Requirement already satisfied: xgboost in c:\\users\\jahongir\\anaconda3\\lib\\site-packages (1.5.0)Note: you may need to restart the kernel to use updated packages.\n",
      "\n",
      "Requirement already satisfied: numpy in c:\\users\\jahongir\\anaconda3\\lib\\site-packages (from xgboost) (1.20.1)\n",
      "Requirement already satisfied: scipy in c:\\users\\jahongir\\anaconda3\\lib\\site-packages (from xgboost) (1.6.2)\n"
     ]
    }
   ],
   "source": [
    "pip install xgboost"
   ]
  },
  {
   "cell_type": "code",
   "execution_count": 66,
   "id": "58ab315b",
   "metadata": {},
   "outputs": [],
   "source": [
    "import xgboost as xgb\n"
   ]
  },
  {
   "cell_type": "code",
   "execution_count": 67,
   "id": "c4d48314",
   "metadata": {},
   "outputs": [],
   "source": [
    "xg_reg = xgb.XGBRegressor(objective ='reg:linear', colsample_bytree = 0.3, learning_rate = 0.1,\n",
    "                max_depth = 5, alpha = 10, n_estimators = 10)"
   ]
  },
  {
   "cell_type": "code",
   "execution_count": 68,
   "id": "8e33fe31",
   "metadata": {},
   "outputs": [
    {
     "name": "stdout",
     "output_type": "stream",
     "text": [
      "[09:59:58] WARNING: C:/Users/Administrator/workspace/xgboost-win64_release_1.5.0/src/objective/regression_obj.cu:188: reg:linear is now deprecated in favor of reg:squarederror.\n"
     ]
    },
    {
     "data": {
      "text/plain": [
       "XGBRegressor(alpha=10, base_score=0.5, booster='gbtree', colsample_bylevel=1,\n",
       "             colsample_bynode=1, colsample_bytree=0.3, enable_categorical=False,\n",
       "             gamma=0, gpu_id=-1, importance_type=None,\n",
       "             interaction_constraints='', learning_rate=0.1, max_delta_step=0,\n",
       "             max_depth=5, min_child_weight=1, missing=nan,\n",
       "             monotone_constraints='()', n_estimators=10, n_jobs=4,\n",
       "             num_parallel_tree=1, objective='reg:linear', predictor='auto',\n",
       "             random_state=0, reg_alpha=10, reg_lambda=1, scale_pos_weight=1,\n",
       "             subsample=1, tree_method='exact', validate_parameters=1,\n",
       "             verbosity=None)"
      ]
     },
     "execution_count": 68,
     "metadata": {},
     "output_type": "execute_result"
    }
   ],
   "source": [
    "xg_reg.fit(X_train,y_train)\n"
   ]
  },
  {
   "cell_type": "code",
   "execution_count": 69,
   "id": "e269e8d2",
   "metadata": {},
   "outputs": [],
   "source": [
    "preds = xg_reg.predict(X_test)"
   ]
  },
  {
   "cell_type": "code",
   "execution_count": 70,
   "id": "f008c984",
   "metadata": {},
   "outputs": [
    {
     "data": {
      "text/plain": [
       "array([0.61299187, 0.48186588, 0.5090969 , 0.37134635, 0.6235591 ,\n",
       "       0.46474665, 0.46927598, 0.531833  , 0.3629291 , 0.531833  ,\n",
       "       0.36692658, 0.63592976, 0.531833  , 0.3629291 , 0.38566512,\n",
       "       0.4978858 , 0.5239916 , 0.6418409 , 0.6585499 , 0.6418409 ,\n",
       "       0.49015936, 0.6418409 , 0.515887  , 0.3629291 , 0.6331372 ,\n",
       "       0.48186588, 0.515887  , 0.4815159 , 0.38566512, 0.37065557,\n",
       "       0.47153676, 0.6392734 , 0.3697192 , 0.37813646, 0.3629291 ,\n",
       "       0.37534383, 0.6418409 , 0.5215117 , 0.3629291 , 0.38566512,\n",
       "       0.5088979 , 0.5920376 , 0.5090969 , 0.5462336 , 0.64548844,\n",
       "       0.55726564, 0.531833  , 0.51682335, 0.37465304, 0.6585499 ,\n",
       "       0.66725355, 0.4007588 , 0.58211714, 0.38566512, 0.37534383,\n",
       "       0.6331372 , 0.531833  , 0.6169894 , 0.37534383, 0.5092715 ,\n",
       "       0.51682335, 0.50536895, 0.66725355, 0.37534383, 0.58211714,\n",
       "       0.66725355, 0.53174615, 0.52679396, 0.4483768 , 0.5469267 ,\n",
       "       0.5088979 , 0.3629291 , 0.58211714, 0.6446334 , 0.37534383,\n",
       "       0.3629291 , 0.5417294 , 0.4304354 , 0.5088979 , 0.6418409 ,\n",
       "       0.3697192 , 0.3629291 , 0.47929135, 0.5243043 , 0.6167691 ,\n",
       "       0.62065077, 0.6291397 , 0.5090969 , 0.3629291 , 0.66725355,\n",
       "       0.5243043 , 0.6291397 , 0.37534383, 0.37134635, 0.66725355,\n",
       "       0.6545524 , 0.5239916 , 0.5215117 , 0.515887  , 0.6138607 ,\n",
       "       0.5088979 , 0.3697192 , 0.3629291 , 0.515887  , 0.48186588,\n",
       "       0.39233932, 0.55726564, 0.3697192 , 0.4985766 , 0.3629291 ,\n",
       "       0.37065557, 0.5734135 , 0.37465304, 0.6545524 , 0.38566512,\n",
       "       0.38566512, 0.37465304, 0.5090969 , 0.47926322, 0.66725355,\n",
       "       0.6418409 , 0.38566512, 0.36692658, 0.38566512, 0.45701432,\n",
       "       0.54406595, 0.3629291 , 0.5953443 , 0.49015936, 0.4902753 ,\n",
       "       0.6207666 , 0.59882766, 0.5088979 , 0.60903305, 0.38566512,\n",
       "       0.5130944 , 0.49123976, 0.66725355, 0.6167691 , 0.66725355,\n",
       "       0.58211714, 0.3629291 , 0.6418409 , 0.58211714, 0.55724573,\n",
       "       0.5088979 , 0.37534383, 0.5130944 , 0.64617926, 0.48186588,\n",
       "       0.6207666 , 0.37744567, 0.37534383, 0.49015936, 0.5088979 ,\n",
       "       0.46916473, 0.5130944 , 0.6585499 , 0.38166764, 0.63592976,\n",
       "       0.37465304, 0.4978858 , 0.3629291 , 0.38566512, 0.61299187,\n",
       "       0.5088979 , 0.6235591 , 0.531833  , 0.3629291 , 0.6167691 ,\n",
       "       0.5424202 , 0.37465304, 0.61785823, 0.58211714, 0.54800075,\n",
       "       0.6585499 , 0.56588906, 0.66725355, 0.37534383, 0.58211714,\n",
       "       0.6291397 , 0.3629291 , 0.51751417, 0.36692658, 0.55726564,\n",
       "       0.6585499 , 0.51682335, 0.6585499 , 0.6432709 , 0.5130944 ,\n",
       "       0.66725355, 0.37465304, 0.5904104 , 0.48186588, 0.50633115,\n",
       "       0.38566512, 0.3697192 , 0.37465304, 0.5239916 , 0.5898717 ,\n",
       "       0.6585499 , 0.37534383, 0.5243043 , 0.37534383, 0.6418409 ,\n",
       "       0.3629291 , 0.4877086 , 0.51751417, 0.3629291 , 0.3629291 ,\n",
       "       0.6418409 , 0.6331372 , 0.42617154, 0.6228683 , 0.38566512,\n",
       "       0.55479085, 0.3629291 , 0.43657297, 0.55726564, 0.531833  ,\n",
       "       0.37134635, 0.515887  , 0.3629291 , 0.479954  , 0.5734135 ,\n",
       "       0.6169894 , 0.5349393 , 0.47153676, 0.5090969 , 0.45701432,\n",
       "       0.61785823, 0.6235591 , 0.6378434 , 0.5346256 , 0.66725355,\n",
       "       0.55724573, 0.3629291 , 0.5090969 , 0.6585499 , 0.3629291 ,\n",
       "       0.3697192 , 0.5239916 , 0.66725355, 0.41107786, 0.5088979 ,\n",
       "       0.55479085, 0.38566512, 0.61785823, 0.5088979 , 0.55724573,\n",
       "       0.3629291 , 0.49015936, 0.4304354 , 0.37534383, 0.47926322,\n",
       "       0.5239916 , 0.38566512, 0.5734135 , 0.6418409 , 0.5130944 ,\n",
       "       0.4731622 , 0.5960351 , 0.38566512, 0.5243043 , 0.5215117 ,\n",
       "       0.66325605, 0.5469267 , 0.3629291 , 0.55724573, 0.37465304,\n",
       "       0.64617926, 0.6432709 , 0.3629291 , 0.66725355, 0.5920376 ,\n",
       "       0.61785823, 0.38566512, 0.47153676, 0.6585499 , 0.5254433 ,\n",
       "       0.6392734 , 0.5088979 , 0.4902753 , 0.515887  , 0.6167691 ,\n",
       "       0.56016874, 0.5239916 , 0.6331372 , 0.38566512, 0.6331372 ,\n",
       "       0.5090969 , 0.66725355, 0.4978858 , 0.63592976, 0.4877086 ,\n",
       "       0.61785823, 0.37465304, 0.66725355, 0.6378434 , 0.55726564,\n",
       "       0.6418409 , 0.37534383, 0.64240205, 0.5088979 , 0.45701432,\n",
       "       0.66725355, 0.37534383, 0.515887  , 0.515887  , 0.5090969 ,\n",
       "       0.4902753 , 0.66725355, 0.5278355 , 0.4731622 , 0.5243043 ,\n",
       "       0.5092715 , 0.55724573, 0.6291397 , 0.6378434 , 0.5557553 ,\n",
       "       0.48186588, 0.6418409 , 0.5469244 , 0.47153676, 0.46010074,\n",
       "       0.5088979 , 0.5913468 , 0.3629291 , 0.6585499 , 0.37465304,\n",
       "       0.42617154, 0.4635841 , 0.5090969 , 0.38566512, 0.38566512,\n",
       "       0.6418409 , 0.4007588 , 0.38566512, 0.37534383, 0.6331372 ,\n",
       "       0.5734135 , 0.3697192 , 0.6138607 , 0.3629291 , 0.6331372 ,\n",
       "       0.5469267 , 0.3629291 , 0.6169894 , 0.515887  , 0.43536928,\n",
       "       0.5090969 , 0.39233932, 0.5581345 , 0.51751417, 0.3629291 ,\n",
       "       0.6585499 , 0.5130944 , 0.6169894 , 0.5462336 , 0.531833  ,\n",
       "       0.37465304, 0.49857885, 0.5090969 , 0.37534383, 0.46010074,\n",
       "       0.41107786, 0.66725355, 0.38566512, 0.4902753 , 0.4007588 ,\n",
       "       0.5581345 , 0.58211714, 0.4731622 , 0.6418409 , 0.63592976,\n",
       "       0.58116806, 0.6214478 , 0.6418409 , 0.5960351 , 0.6228683 ,\n",
       "       0.5734135 , 0.5090969 , 0.5088979 , 0.65575176, 0.55726564,\n",
       "       0.5239916 , 0.6174503 , 0.55724573, 0.5734135 , 0.51665246,\n",
       "       0.6291397 , 0.66725355, 0.3697192 , 0.4902753 , 0.37534383,\n",
       "       0.56588906, 0.5734135 , 0.66725355, 0.3629291 , 0.38566512,\n",
       "       0.46916473, 0.36692658, 0.4007588 , 0.4007588 , 0.56104285,\n",
       "       0.3697192 , 0.66325605, 0.5469267 , 0.37465304, 0.5469267 ,\n",
       "       0.3629291 , 0.40708038, 0.6585499 , 0.531833  , 0.4731622 ,\n",
       "       0.6167595 , 0.37534383, 0.49802986, 0.48242697, 0.6378434 ,\n",
       "       0.4985766 , 0.5243043 , 0.66725355, 0.4877086 , 0.55724573,\n",
       "       0.5090969 , 0.64548844, 0.515887  , 0.4731622 , 0.4731639 ,\n",
       "       0.5734135 , 0.5239916 , 0.63592976, 0.37465304, 0.6291397 ,\n",
       "       0.64149094, 0.36692658, 0.38566512, 0.37065557, 0.4985766 ,\n",
       "       0.5318529 , 0.3629291 , 0.5243043 , 0.37534383, 0.4902753 ,\n",
       "       0.5723394 , 0.38566512, 0.4877086 , 0.52361345, 0.5088979 ,\n",
       "       0.4902753 , 0.6585499 , 0.6378434 , 0.5088979 , 0.6378434 ,\n",
       "       0.515887  , 0.5088979 , 0.6418409 , 0.5898717 , 0.39233932,\n",
       "       0.4007588 , 0.3960683 , 0.3697192 , 0.41107786, 0.4304354 ,\n",
       "       0.37465304, 0.66725355, 0.5090969 , 0.531833  , 0.3629291 ,\n",
       "       0.4784462 , 0.3629291 , 0.5088979 , 0.5090969 , 0.6418409 ,\n",
       "       0.36692658, 0.5239916 , 0.4731622 , 0.4007588 , 0.52082086,\n",
       "       0.6235591 , 0.66725355, 0.62065077, 0.47153676, 0.5092715 ,\n",
       "       0.515887  , 0.3697192 , 0.3629291 , 0.5363114 , 0.36692658,\n",
       "       0.6585499 , 0.4978858 , 0.5723394 , 0.47153676, 0.47929135,\n",
       "       0.37534383, 0.66725355, 0.37534383, 0.6174503 , 0.3697192 ,\n",
       "       0.6331372 , 0.38566512, 0.5215117 , 0.58211714, 0.6418409 ,\n",
       "       0.6169894 , 0.5567044 , 0.4007588 , 0.66725355, 0.47595477,\n",
       "       0.53174615, 0.37534383, 0.3697192 , 0.4902753 , 0.5960351 ,\n",
       "       0.6235591 , 0.36692658, 0.3629291 , 0.5723394 , 0.5088979 ,\n",
       "       0.6585499 , 0.37065557, 0.6418409 , 0.37465304, 0.37534383,\n",
       "       0.49857885, 0.4902753 , 0.49015936, 0.37534383, 0.5130944 ,\n",
       "       0.58211714, 0.6169894 , 0.48186588, 0.4007588 , 0.5090969 ,\n",
       "       0.5386231 , 0.6418409 , 0.66725355, 0.38566512, 0.5090969 ,\n",
       "       0.38566512, 0.5243043 , 0.36692658, 0.61785823, 0.5247525 ,\n",
       "       0.3629291 , 0.37534383, 0.6378434 , 0.6418409 , 0.6207666 ,\n",
       "       0.38566512, 0.6432709 , 0.3629291 , 0.3629291 , 0.47153676,\n",
       "       0.5090969 , 0.62007576, 0.66725355, 0.3629291 , 0.65575176,\n",
       "       0.38566512, 0.6169894 , 0.58211714, 0.37534383, 0.36692658,\n",
       "       0.515887  , 0.6585499 , 0.38566512, 0.38566512, 0.45610327,\n",
       "       0.55724573, 0.5013812 , 0.5417294 , 0.5239916 , 0.55726564,\n",
       "       0.5581345 , 0.47153676, 0.6235591 , 0.62007576, 0.5090969 ,\n",
       "       0.6331372 , 0.6169894 , 0.560352  , 0.6378434 , 0.6228683 ,\n",
       "       0.53850716, 0.5215117 , 0.5088979 , 0.5239916 , 0.5429269 ,\n",
       "       0.6545524 , 0.38566512, 0.5960351 , 0.5898717 , 0.58211714,\n",
       "       0.48465845, 0.5243043 , 0.66725355, 0.46916473, 0.47153676],\n",
       "      dtype=float32)"
      ]
     },
     "execution_count": 70,
     "metadata": {},
     "output_type": "execute_result"
    }
   ],
   "source": [
    "preds"
   ]
  },
  {
   "cell_type": "code",
   "execution_count": 71,
   "id": "a2dcf2fe",
   "metadata": {},
   "outputs": [
    {
     "data": {
      "text/plain": [
       "0.1811944888860314"
      ]
     },
     "execution_count": 71,
     "metadata": {},
     "output_type": "execute_result"
    }
   ],
   "source": [
    "h=xg_reg.score(X_test,y_test)\n",
    "h"
   ]
  },
  {
   "cell_type": "code",
   "execution_count": 72,
   "id": "cc37e73b",
   "metadata": {},
   "outputs": [
    {
     "name": "stdout",
     "output_type": "stream",
     "text": [
      "Linear Regression score: 0.40054752385502235\n",
      "Logistic Regression score: 0.79\n",
      "Decision Tree Accuracy score: 0.765\n",
      "Random Forest Accuraccy score: 0.7416666666666667\n",
      "KNN score: 0.745\n",
      "SVC Classifier score: 0.7633333333333333\n",
      "Gradient Boosting score: 0.13691647034048804\n",
      "XGBoost score: 0.1811944888860314\n"
     ]
    }
   ],
   "source": [
    "print('Linear Regression score:', r2) \n",
    "print('Logistic Regression score:', a)\n",
    "print('Decision Tree Accuracy score:', c)\n",
    "print('Random Forest Accuraccy score:',d)\n",
    "print('KNN score:',e)\n",
    "print('SVC Classifier score:',f)\n",
    "print('Gradient Boosting score:',g)\n",
    "print('XGBoost score:',h)"
   ]
  },
  {
   "cell_type": "code",
   "execution_count": null,
   "id": "4dc33650",
   "metadata": {},
   "outputs": [],
   "source": []
  }
 ],
 "metadata": {
  "kernelspec": {
   "display_name": "Python 3",
   "language": "python",
   "name": "python3"
  },
  "language_info": {
   "codemirror_mode": {
    "name": "ipython",
    "version": 3
   },
   "file_extension": ".py",
   "mimetype": "text/x-python",
   "name": "python",
   "nbconvert_exporter": "python",
   "pygments_lexer": "ipython3",
   "version": "3.8.8"
  }
 },
 "nbformat": 4,
 "nbformat_minor": 5
}
