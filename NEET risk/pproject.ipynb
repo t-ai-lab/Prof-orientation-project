{
 "cells": [
  {
   "cell_type": "code",
   "execution_count": 39,
   "id": "6c738026",
   "metadata": {},
   "outputs": [
    {
     "name": "stderr",
     "output_type": "stream",
     "text": [
      "C:\\Users\\Jahongir\\anaconda3\\lib\\site-packages\\IPython\\core\\interactiveshell.py:3165: DtypeWarning: Columns (902,921) have mixed types.Specify dtype option on import or set low_memory=False.\n",
      "  has_raised = await self.run_ast_nodes(code_ast.body, cell_name,\n"
     ]
    }
   ],
   "source": [
    "import pandas as pd\n",
    "df=pd.read_csv('project_data.csv',sep=';')"
   ]
  },
  {
   "cell_type": "code",
   "execution_count": 40,
   "id": "1dc60231",
   "metadata": {},
   "outputs": [],
   "source": [
    "df=df[['Worker','Q501','Educ_3categ_from201','Q102','UrbanRural','ageYr','Q702','Q803','fjobexist','ageeducleft','fmarrlegYYYY','childexist','agelefthome','educToWork','HaveBeenAbroad']]"
   ]
  },
  {
   "cell_type": "code",
   "execution_count": 41,
   "id": "00d71d23",
   "metadata": {},
   "outputs": [
    {
     "data": {
      "text/html": [
       "<div>\n",
       "<style scoped>\n",
       "    .dataframe tbody tr th:only-of-type {\n",
       "        vertical-align: middle;\n",
       "    }\n",
       "\n",
       "    .dataframe tbody tr th {\n",
       "        vertical-align: top;\n",
       "    }\n",
       "\n",
       "    .dataframe thead th {\n",
       "        text-align: right;\n",
       "    }\n",
       "</style>\n",
       "<table border=\"1\" class=\"dataframe\">\n",
       "  <thead>\n",
       "    <tr style=\"text-align: right;\">\n",
       "      <th></th>\n",
       "      <th>Worker</th>\n",
       "      <th>Q501</th>\n",
       "      <th>Educ_3categ_from201</th>\n",
       "      <th>Q102</th>\n",
       "      <th>UrbanRural</th>\n",
       "      <th>ageYr</th>\n",
       "      <th>Q702</th>\n",
       "      <th>Q803</th>\n",
       "      <th>fjobexist</th>\n",
       "      <th>ageeducleft</th>\n",
       "      <th>fmarrlegYYYY</th>\n",
       "      <th>childexist</th>\n",
       "      <th>agelefthome</th>\n",
       "      <th>educToWork</th>\n",
       "      <th>HaveBeenAbroad</th>\n",
       "    </tr>\n",
       "  </thead>\n",
       "  <tbody>\n",
       "    <tr>\n",
       "      <th>0</th>\n",
       "      <td>2</td>\n",
       "      <td>3</td>\n",
       "      <td>3</td>\n",
       "      <td>2</td>\n",
       "      <td>1</td>\n",
       "      <td>24</td>\n",
       "      <td>99</td>\n",
       "      <td>1</td>\n",
       "      <td>0</td>\n",
       "      <td>18,5</td>\n",
       "      <td>2011</td>\n",
       "      <td>1</td>\n",
       "      <td>18,5833339691162</td>\n",
       "      <td></td>\n",
       "      <td>2</td>\n",
       "    </tr>\n",
       "    <tr>\n",
       "      <th>1</th>\n",
       "      <td>1</td>\n",
       "      <td>3</td>\n",
       "      <td>1</td>\n",
       "      <td>2</td>\n",
       "      <td>1</td>\n",
       "      <td>29</td>\n",
       "      <td>99</td>\n",
       "      <td>1</td>\n",
       "      <td>1</td>\n",
       "      <td>18,5833339691162</td>\n",
       "      <td>2011</td>\n",
       "      <td>1</td>\n",
       "      <td>23,4166660308838</td>\n",
       "      <td>15</td>\n",
       "      <td>2</td>\n",
       "    </tr>\n",
       "    <tr>\n",
       "      <th>2</th>\n",
       "      <td>2</td>\n",
       "      <td>3</td>\n",
       "      <td>1</td>\n",
       "      <td>2</td>\n",
       "      <td>1</td>\n",
       "      <td>24</td>\n",
       "      <td>99</td>\n",
       "      <td>2</td>\n",
       "      <td>0</td>\n",
       "      <td>17,1666660308838</td>\n",
       "      <td>2013</td>\n",
       "      <td>1</td>\n",
       "      <td>21,6666660308838</td>\n",
       "      <td></td>\n",
       "      <td>2</td>\n",
       "    </tr>\n",
       "    <tr>\n",
       "      <th>3</th>\n",
       "      <td>2</td>\n",
       "      <td>1</td>\n",
       "      <td>3</td>\n",
       "      <td>2</td>\n",
       "      <td>1</td>\n",
       "      <td>28</td>\n",
       "      <td>99</td>\n",
       "      <td>1</td>\n",
       "      <td>1</td>\n",
       "      <td>23,3333339691162</td>\n",
       "      <td></td>\n",
       "      <td>0</td>\n",
       "      <td></td>\n",
       "      <td>3</td>\n",
       "      <td>2</td>\n",
       "    </tr>\n",
       "    <tr>\n",
       "      <th>4</th>\n",
       "      <td>1</td>\n",
       "      <td>3</td>\n",
       "      <td>3</td>\n",
       "      <td>1</td>\n",
       "      <td>1</td>\n",
       "      <td>26</td>\n",
       "      <td></td>\n",
       "      <td>2</td>\n",
       "      <td>1</td>\n",
       "      <td>23,1666660308838</td>\n",
       "      <td>2012</td>\n",
       "      <td>1</td>\n",
       "      <td></td>\n",
       "      <td>0</td>\n",
       "      <td>1</td>\n",
       "    </tr>\n",
       "    <tr>\n",
       "      <th>...</th>\n",
       "      <td>...</td>\n",
       "      <td>...</td>\n",
       "      <td>...</td>\n",
       "      <td>...</td>\n",
       "      <td>...</td>\n",
       "      <td>...</td>\n",
       "      <td>...</td>\n",
       "      <td>...</td>\n",
       "      <td>...</td>\n",
       "      <td>...</td>\n",
       "      <td>...</td>\n",
       "      <td>...</td>\n",
       "      <td>...</td>\n",
       "      <td>...</td>\n",
       "      <td>...</td>\n",
       "    </tr>\n",
       "    <tr>\n",
       "      <th>1995</th>\n",
       "      <td>1</td>\n",
       "      <td>1</td>\n",
       "      <td>1</td>\n",
       "      <td>1</td>\n",
       "      <td>2</td>\n",
       "      <td>22</td>\n",
       "      <td></td>\n",
       "      <td>1</td>\n",
       "      <td>0</td>\n",
       "      <td>18</td>\n",
       "      <td></td>\n",
       "      <td>0</td>\n",
       "      <td></td>\n",
       "      <td></td>\n",
       "      <td>2</td>\n",
       "    </tr>\n",
       "    <tr>\n",
       "      <th>1996</th>\n",
       "      <td>1</td>\n",
       "      <td>1</td>\n",
       "      <td>1</td>\n",
       "      <td>1</td>\n",
       "      <td>2</td>\n",
       "      <td>23</td>\n",
       "      <td></td>\n",
       "      <td>1</td>\n",
       "      <td>1</td>\n",
       "      <td>17,6666660308838</td>\n",
       "      <td></td>\n",
       "      <td>0</td>\n",
       "      <td>17,75</td>\n",
       "      <td>0</td>\n",
       "      <td>3</td>\n",
       "    </tr>\n",
       "    <tr>\n",
       "      <th>1997</th>\n",
       "      <td>2</td>\n",
       "      <td>3</td>\n",
       "      <td>1</td>\n",
       "      <td>2</td>\n",
       "      <td>2</td>\n",
       "      <td>23</td>\n",
       "      <td>2</td>\n",
       "      <td>1</td>\n",
       "      <td>1</td>\n",
       "      <td>15,3333330154419</td>\n",
       "      <td>2014</td>\n",
       "      <td>1</td>\n",
       "      <td>20,5833339691162</td>\n",
       "      <td>0</td>\n",
       "      <td>2</td>\n",
       "    </tr>\n",
       "    <tr>\n",
       "      <th>1998</th>\n",
       "      <td>2</td>\n",
       "      <td>3</td>\n",
       "      <td>1</td>\n",
       "      <td>2</td>\n",
       "      <td>2</td>\n",
       "      <td>27</td>\n",
       "      <td>2</td>\n",
       "      <td>2</td>\n",
       "      <td>0</td>\n",
       "      <td>17,6666660308838</td>\n",
       "      <td>2007</td>\n",
       "      <td>1</td>\n",
       "      <td>17,6666660308838</td>\n",
       "      <td></td>\n",
       "      <td>2</td>\n",
       "    </tr>\n",
       "    <tr>\n",
       "      <th>1999</th>\n",
       "      <td>2</td>\n",
       "      <td>1</td>\n",
       "      <td>1</td>\n",
       "      <td>2</td>\n",
       "      <td>2</td>\n",
       "      <td>23</td>\n",
       "      <td>2</td>\n",
       "      <td>2</td>\n",
       "      <td>0</td>\n",
       "      <td>18</td>\n",
       "      <td></td>\n",
       "      <td>0</td>\n",
       "      <td></td>\n",
       "      <td></td>\n",
       "      <td>2</td>\n",
       "    </tr>\n",
       "  </tbody>\n",
       "</table>\n",
       "<p>2000 rows × 15 columns</p>\n",
       "</div>"
      ],
      "text/plain": [
       "      Worker  Q501  Educ_3categ_from201  Q102  UrbanRural  ageYr Q702  Q803  \\\n",
       "0          2     3                    3     2           1     24   99     1   \n",
       "1          1     3                    1     2           1     29   99     1   \n",
       "2          2     3                    1     2           1     24   99     2   \n",
       "3          2     1                    3     2           1     28   99     1   \n",
       "4          1     3                    3     1           1     26          2   \n",
       "...      ...   ...                  ...   ...         ...    ...  ...   ...   \n",
       "1995       1     1                    1     1           2     22          1   \n",
       "1996       1     1                    1     1           2     23          1   \n",
       "1997       2     3                    1     2           2     23    2     1   \n",
       "1998       2     3                    1     2           2     27    2     2   \n",
       "1999       2     1                    1     2           2     23    2     2   \n",
       "\n",
       "      fjobexist       ageeducleft fmarrlegYYYY  childexist       agelefthome  \\\n",
       "0             0              18,5         2011           1  18,5833339691162   \n",
       "1             1  18,5833339691162         2011           1  23,4166660308838   \n",
       "2             0  17,1666660308838         2013           1  21,6666660308838   \n",
       "3             1  23,3333339691162                        0                     \n",
       "4             1  23,1666660308838         2012           1                     \n",
       "...         ...               ...          ...         ...               ...   \n",
       "1995          0                18                        0                     \n",
       "1996          1  17,6666660308838                        0             17,75   \n",
       "1997          1  15,3333330154419         2014           1  20,5833339691162   \n",
       "1998          0  17,6666660308838         2007           1  17,6666660308838   \n",
       "1999          0                18                        0                     \n",
       "\n",
       "     educToWork  HaveBeenAbroad  \n",
       "0                             2  \n",
       "1            15               2  \n",
       "2                             2  \n",
       "3             3               2  \n",
       "4             0               1  \n",
       "...         ...             ...  \n",
       "1995                          2  \n",
       "1996          0               3  \n",
       "1997          0               2  \n",
       "1998                          2  \n",
       "1999                          2  \n",
       "\n",
       "[2000 rows x 15 columns]"
      ]
     },
     "execution_count": 41,
     "metadata": {},
     "output_type": "execute_result"
    }
   ],
   "source": [
    "df"
   ]
  },
  {
   "cell_type": "code",
   "execution_count": 42,
   "id": "dcaa54a3",
   "metadata": {},
   "outputs": [],
   "source": [
    "df.dropna(inplace=True,axis=0)"
   ]
  },
  {
   "cell_type": "code",
   "execution_count": 43,
   "id": "0dacb95f",
   "metadata": {},
   "outputs": [],
   "source": [
    "df.rename(columns={'Q702':'wearHijab','Educ_3categ_from201':'edlevel',\n",
    "                   'Q803':'health','Q102':'Gender'}, inplace=True)"
   ]
  },
  {
   "cell_type": "code",
   "execution_count": 44,
   "id": "7fcefa2b",
   "metadata": {},
   "outputs": [
    {
     "data": {
      "text/plain": [
       "Worker            0\n",
       "Q501              0\n",
       "edlevel           0\n",
       "Gender            0\n",
       "UrbanRural        0\n",
       "ageYr             0\n",
       "wearHijab         0\n",
       "health            0\n",
       "fjobexist         0\n",
       "ageeducleft       0\n",
       "fmarrlegYYYY      0\n",
       "childexist        0\n",
       "agelefthome       0\n",
       "educToWork        0\n",
       "HaveBeenAbroad    0\n",
       "dtype: int64"
      ]
     },
     "execution_count": 44,
     "metadata": {},
     "output_type": "execute_result"
    }
   ],
   "source": [
    "df.isnull().sum()"
   ]
  },
  {
   "cell_type": "code",
   "execution_count": 45,
   "id": "5425599d",
   "metadata": {},
   "outputs": [
    {
     "data": {
      "text/html": [
       "<div>\n",
       "<style scoped>\n",
       "    .dataframe tbody tr th:only-of-type {\n",
       "        vertical-align: middle;\n",
       "    }\n",
       "\n",
       "    .dataframe tbody tr th {\n",
       "        vertical-align: top;\n",
       "    }\n",
       "\n",
       "    .dataframe thead th {\n",
       "        text-align: right;\n",
       "    }\n",
       "</style>\n",
       "<table border=\"1\" class=\"dataframe\">\n",
       "  <thead>\n",
       "    <tr style=\"text-align: right;\">\n",
       "      <th></th>\n",
       "      <th>Worker</th>\n",
       "      <th>Q501</th>\n",
       "      <th>edlevel</th>\n",
       "      <th>Gender</th>\n",
       "      <th>UrbanRural</th>\n",
       "      <th>ageYr</th>\n",
       "      <th>health</th>\n",
       "      <th>fjobexist</th>\n",
       "      <th>childexist</th>\n",
       "      <th>HaveBeenAbroad</th>\n",
       "    </tr>\n",
       "  </thead>\n",
       "  <tbody>\n",
       "    <tr>\n",
       "      <th>Worker</th>\n",
       "      <td>1.000000</td>\n",
       "      <td>-0.073569</td>\n",
       "      <td>-0.323764</td>\n",
       "      <td>0.172026</td>\n",
       "      <td>0.056298</td>\n",
       "      <td>-0.247759</td>\n",
       "      <td>0.138029</td>\n",
       "      <td>-0.533739</td>\n",
       "      <td>-0.078068</td>\n",
       "      <td>-0.052510</td>\n",
       "    </tr>\n",
       "    <tr>\n",
       "      <th>Q501</th>\n",
       "      <td>-0.073569</td>\n",
       "      <td>1.000000</td>\n",
       "      <td>0.122178</td>\n",
       "      <td>0.158964</td>\n",
       "      <td>-0.014888</td>\n",
       "      <td>0.447059</td>\n",
       "      <td>0.057600</td>\n",
       "      <td>0.044359</td>\n",
       "      <td>0.681221</td>\n",
       "      <td>-0.027302</td>\n",
       "    </tr>\n",
       "    <tr>\n",
       "      <th>edlevel</th>\n",
       "      <td>-0.323764</td>\n",
       "      <td>0.122178</td>\n",
       "      <td>1.000000</td>\n",
       "      <td>-0.194398</td>\n",
       "      <td>-0.131578</td>\n",
       "      <td>0.513776</td>\n",
       "      <td>-0.071834</td>\n",
       "      <td>0.346593</td>\n",
       "      <td>0.138983</td>\n",
       "      <td>0.052083</td>\n",
       "    </tr>\n",
       "    <tr>\n",
       "      <th>Gender</th>\n",
       "      <td>0.172026</td>\n",
       "      <td>0.158964</td>\n",
       "      <td>-0.194398</td>\n",
       "      <td>1.000000</td>\n",
       "      <td>-0.042977</td>\n",
       "      <td>-0.095354</td>\n",
       "      <td>0.029528</td>\n",
       "      <td>-0.422441</td>\n",
       "      <td>0.149372</td>\n",
       "      <td>0.135158</td>\n",
       "    </tr>\n",
       "    <tr>\n",
       "      <th>UrbanRural</th>\n",
       "      <td>0.056298</td>\n",
       "      <td>-0.014888</td>\n",
       "      <td>-0.131578</td>\n",
       "      <td>-0.042977</td>\n",
       "      <td>1.000000</td>\n",
       "      <td>-0.058697</td>\n",
       "      <td>0.065769</td>\n",
       "      <td>-0.048717</td>\n",
       "      <td>-0.028924</td>\n",
       "      <td>-0.034708</td>\n",
       "    </tr>\n",
       "    <tr>\n",
       "      <th>ageYr</th>\n",
       "      <td>-0.247759</td>\n",
       "      <td>0.447059</td>\n",
       "      <td>0.513776</td>\n",
       "      <td>-0.095354</td>\n",
       "      <td>-0.058697</td>\n",
       "      <td>1.000000</td>\n",
       "      <td>0.046416</td>\n",
       "      <td>0.279469</td>\n",
       "      <td>0.505490</td>\n",
       "      <td>-0.045511</td>\n",
       "    </tr>\n",
       "    <tr>\n",
       "      <th>health</th>\n",
       "      <td>0.138029</td>\n",
       "      <td>0.057600</td>\n",
       "      <td>-0.071834</td>\n",
       "      <td>0.029528</td>\n",
       "      <td>0.065769</td>\n",
       "      <td>0.046416</td>\n",
       "      <td>1.000000</td>\n",
       "      <td>-0.084341</td>\n",
       "      <td>0.035702</td>\n",
       "      <td>0.013206</td>\n",
       "    </tr>\n",
       "    <tr>\n",
       "      <th>fjobexist</th>\n",
       "      <td>-0.533739</td>\n",
       "      <td>0.044359</td>\n",
       "      <td>0.346593</td>\n",
       "      <td>-0.422441</td>\n",
       "      <td>-0.048717</td>\n",
       "      <td>0.279469</td>\n",
       "      <td>-0.084341</td>\n",
       "      <td>1.000000</td>\n",
       "      <td>0.022049</td>\n",
       "      <td>-0.122682</td>\n",
       "    </tr>\n",
       "    <tr>\n",
       "      <th>childexist</th>\n",
       "      <td>-0.078068</td>\n",
       "      <td>0.681221</td>\n",
       "      <td>0.138983</td>\n",
       "      <td>0.149372</td>\n",
       "      <td>-0.028924</td>\n",
       "      <td>0.505490</td>\n",
       "      <td>0.035702</td>\n",
       "      <td>0.022049</td>\n",
       "      <td>1.000000</td>\n",
       "      <td>-0.001218</td>\n",
       "    </tr>\n",
       "    <tr>\n",
       "      <th>HaveBeenAbroad</th>\n",
       "      <td>-0.052510</td>\n",
       "      <td>-0.027302</td>\n",
       "      <td>0.052083</td>\n",
       "      <td>0.135158</td>\n",
       "      <td>-0.034708</td>\n",
       "      <td>-0.045511</td>\n",
       "      <td>0.013206</td>\n",
       "      <td>-0.122682</td>\n",
       "      <td>-0.001218</td>\n",
       "      <td>1.000000</td>\n",
       "    </tr>\n",
       "  </tbody>\n",
       "</table>\n",
       "</div>"
      ],
      "text/plain": [
       "                  Worker      Q501   edlevel    Gender  UrbanRural     ageYr  \\\n",
       "Worker          1.000000 -0.073569 -0.323764  0.172026    0.056298 -0.247759   \n",
       "Q501           -0.073569  1.000000  0.122178  0.158964   -0.014888  0.447059   \n",
       "edlevel        -0.323764  0.122178  1.000000 -0.194398   -0.131578  0.513776   \n",
       "Gender          0.172026  0.158964 -0.194398  1.000000   -0.042977 -0.095354   \n",
       "UrbanRural      0.056298 -0.014888 -0.131578 -0.042977    1.000000 -0.058697   \n",
       "ageYr          -0.247759  0.447059  0.513776 -0.095354   -0.058697  1.000000   \n",
       "health          0.138029  0.057600 -0.071834  0.029528    0.065769  0.046416   \n",
       "fjobexist      -0.533739  0.044359  0.346593 -0.422441   -0.048717  0.279469   \n",
       "childexist     -0.078068  0.681221  0.138983  0.149372   -0.028924  0.505490   \n",
       "HaveBeenAbroad -0.052510 -0.027302  0.052083  0.135158   -0.034708 -0.045511   \n",
       "\n",
       "                  health  fjobexist  childexist  HaveBeenAbroad  \n",
       "Worker          0.138029  -0.533739   -0.078068       -0.052510  \n",
       "Q501            0.057600   0.044359    0.681221       -0.027302  \n",
       "edlevel        -0.071834   0.346593    0.138983        0.052083  \n",
       "Gender          0.029528  -0.422441    0.149372        0.135158  \n",
       "UrbanRural      0.065769  -0.048717   -0.028924       -0.034708  \n",
       "ageYr           0.046416   0.279469    0.505490       -0.045511  \n",
       "health          1.000000  -0.084341    0.035702        0.013206  \n",
       "fjobexist      -0.084341   1.000000    0.022049       -0.122682  \n",
       "childexist      0.035702   0.022049    1.000000       -0.001218  \n",
       "HaveBeenAbroad  0.013206  -0.122682   -0.001218        1.000000  "
      ]
     },
     "execution_count": 45,
     "metadata": {},
     "output_type": "execute_result"
    }
   ],
   "source": [
    "df.corr()"
   ]
  },
  {
   "cell_type": "code",
   "execution_count": 46,
   "id": "66f808aa",
   "metadata": {},
   "outputs": [],
   "source": [
    "df.at[df['Worker']==1,'isWorker']=1\n",
    "df.at[df['Worker']==2,'isWorker']=0"
   ]
  },
  {
   "cell_type": "code",
   "execution_count": 47,
   "id": "4c4a221c",
   "metadata": {},
   "outputs": [],
   "source": [
    "y=df['isWorker']"
   ]
  },
  {
   "cell_type": "code",
   "execution_count": 48,
   "id": "e06ad915",
   "metadata": {},
   "outputs": [
    {
     "data": {
      "text/plain": [
       "0       0.0\n",
       "1       1.0\n",
       "2       0.0\n",
       "3       0.0\n",
       "4       1.0\n",
       "       ... \n",
       "1995    1.0\n",
       "1996    1.0\n",
       "1997    0.0\n",
       "1998    0.0\n",
       "1999    0.0\n",
       "Name: isWorker, Length: 2000, dtype: float64"
      ]
     },
     "execution_count": 48,
     "metadata": {},
     "output_type": "execute_result"
    }
   ],
   "source": [
    "y"
   ]
  },
  {
   "cell_type": "code",
   "execution_count": 49,
   "id": "2abb0fb1",
   "metadata": {},
   "outputs": [],
   "source": [
    "df.at[df['UrbanRural']==1,'Urban']=1\n",
    "df.at[df['UrbanRural']==2,'Urban']=0"
   ]
  },
  {
   "cell_type": "code",
   "execution_count": 50,
   "id": "2e03a3be",
   "metadata": {},
   "outputs": [
    {
     "data": {
      "text/plain": [
       "1    1326\n",
       "0     674\n",
       "Name: married, dtype: int64"
      ]
     },
     "execution_count": 50,
     "metadata": {},
     "output_type": "execute_result"
    }
   ],
   "source": [
    "df['married'] = df['Q501'].replace((1,2,3,4,5,6),(0,0,1,0,0,0))\n",
    "df['married'].value_counts()"
   ]
  },
  {
   "cell_type": "code",
   "execution_count": 51,
   "id": "4b680140",
   "metadata": {},
   "outputs": [
    {
     "data": {
      "text/plain": [
       "0    1535\n",
       "1     465\n",
       "Name: BeenAbroad, dtype: int64"
      ]
     },
     "execution_count": 51,
     "metadata": {},
     "output_type": "execute_result"
    }
   ],
   "source": [
    "df['BeenAbroad'] = df['HaveBeenAbroad'].replace((2, 3),(0,1))\n",
    "df['BeenAbroad'].value_counts()"
   ]
  },
  {
   "cell_type": "code",
   "execution_count": 52,
   "id": "1f488ad5",
   "metadata": {},
   "outputs": [
    {
     "data": {
      "text/plain": [
       "0    1004\n",
       "1     996\n",
       "Name: isFemale, dtype: int64"
      ]
     },
     "execution_count": 52,
     "metadata": {},
     "output_type": "execute_result"
    }
   ],
   "source": [
    "df['isFemale'] = df['Gender'].replace((1, 2),(0,1))\n",
    "df['isFemale'].value_counts()"
   ]
  },
  {
   "cell_type": "code",
   "execution_count": 53,
   "id": "67121125",
   "metadata": {},
   "outputs": [
    {
     "data": {
      "text/plain": [
       "0       0\n",
       "1       0\n",
       "2       0\n",
       "3       0\n",
       "4       1\n",
       "       ..\n",
       "1995    0\n",
       "1996    1\n",
       "1997    0\n",
       "1998    0\n",
       "1999    0\n",
       "Name: BeenAbroad, Length: 2000, dtype: int64"
      ]
     },
     "execution_count": 53,
     "metadata": {},
     "output_type": "execute_result"
    }
   ],
   "source": [
    "df['BeenAbroad']"
   ]
  },
  {
   "cell_type": "code",
   "execution_count": 54,
   "id": "034a0c35",
   "metadata": {},
   "outputs": [
    {
     "data": {
      "text/plain": [
       "2    944\n",
       "1    790\n",
       "3    241\n",
       "4     24\n",
       "5      1\n",
       "Name: health, dtype: int64"
      ]
     },
     "execution_count": 54,
     "metadata": {},
     "output_type": "execute_result"
    }
   ],
   "source": [
    "df['health'].value_counts()"
   ]
  },
  {
   "cell_type": "code",
   "execution_count": 55,
   "id": "c62cf7af",
   "metadata": {},
   "outputs": [
    {
     "data": {
      "text/plain": [
       "1    1975\n",
       "0      25\n",
       "Name: healthy, dtype: int64"
      ]
     },
     "execution_count": 55,
     "metadata": {},
     "output_type": "execute_result"
    }
   ],
   "source": [
    "df['healthy'] = df['health'].replace((1,2,3,4,5),(1,1,1,0,0))\n",
    "\n",
    "df['healthy'].value_counts()"
   ]
  },
  {
   "cell_type": "code",
   "execution_count": 56,
   "id": "3682f81b",
   "metadata": {},
   "outputs": [
    {
     "data": {
      "text/html": [
       "<div>\n",
       "<style scoped>\n",
       "    .dataframe tbody tr th:only-of-type {\n",
       "        vertical-align: middle;\n",
       "    }\n",
       "\n",
       "    .dataframe tbody tr th {\n",
       "        vertical-align: top;\n",
       "    }\n",
       "\n",
       "    .dataframe thead th {\n",
       "        text-align: right;\n",
       "    }\n",
       "</style>\n",
       "<table border=\"1\" class=\"dataframe\">\n",
       "  <thead>\n",
       "    <tr style=\"text-align: right;\">\n",
       "      <th></th>\n",
       "      <th>educlevel_1</th>\n",
       "      <th>educlevel_2</th>\n",
       "      <th>educlevel_3</th>\n",
       "    </tr>\n",
       "  </thead>\n",
       "  <tbody>\n",
       "    <tr>\n",
       "      <th>0</th>\n",
       "      <td>0</td>\n",
       "      <td>0</td>\n",
       "      <td>1</td>\n",
       "    </tr>\n",
       "    <tr>\n",
       "      <th>1</th>\n",
       "      <td>1</td>\n",
       "      <td>0</td>\n",
       "      <td>0</td>\n",
       "    </tr>\n",
       "    <tr>\n",
       "      <th>2</th>\n",
       "      <td>1</td>\n",
       "      <td>0</td>\n",
       "      <td>0</td>\n",
       "    </tr>\n",
       "    <tr>\n",
       "      <th>3</th>\n",
       "      <td>0</td>\n",
       "      <td>0</td>\n",
       "      <td>1</td>\n",
       "    </tr>\n",
       "    <tr>\n",
       "      <th>4</th>\n",
       "      <td>0</td>\n",
       "      <td>0</td>\n",
       "      <td>1</td>\n",
       "    </tr>\n",
       "    <tr>\n",
       "      <th>...</th>\n",
       "      <td>...</td>\n",
       "      <td>...</td>\n",
       "      <td>...</td>\n",
       "    </tr>\n",
       "    <tr>\n",
       "      <th>1995</th>\n",
       "      <td>1</td>\n",
       "      <td>0</td>\n",
       "      <td>0</td>\n",
       "    </tr>\n",
       "    <tr>\n",
       "      <th>1996</th>\n",
       "      <td>1</td>\n",
       "      <td>0</td>\n",
       "      <td>0</td>\n",
       "    </tr>\n",
       "    <tr>\n",
       "      <th>1997</th>\n",
       "      <td>1</td>\n",
       "      <td>0</td>\n",
       "      <td>0</td>\n",
       "    </tr>\n",
       "    <tr>\n",
       "      <th>1998</th>\n",
       "      <td>1</td>\n",
       "      <td>0</td>\n",
       "      <td>0</td>\n",
       "    </tr>\n",
       "    <tr>\n",
       "      <th>1999</th>\n",
       "      <td>1</td>\n",
       "      <td>0</td>\n",
       "      <td>0</td>\n",
       "    </tr>\n",
       "  </tbody>\n",
       "</table>\n",
       "<p>2000 rows × 3 columns</p>\n",
       "</div>"
      ],
      "text/plain": [
       "      educlevel_1  educlevel_2  educlevel_3\n",
       "0               0            0            1\n",
       "1               1            0            0\n",
       "2               1            0            0\n",
       "3               0            0            1\n",
       "4               0            0            1\n",
       "...           ...          ...          ...\n",
       "1995            1            0            0\n",
       "1996            1            0            0\n",
       "1997            1            0            0\n",
       "1998            1            0            0\n",
       "1999            1            0            0\n",
       "\n",
       "[2000 rows x 3 columns]"
      ]
     },
     "execution_count": 56,
     "metadata": {},
     "output_type": "execute_result"
    }
   ],
   "source": [
    "education = pd.get_dummies(df[\"edlevel\"], prefix=\"educlevel\", dummy_na=False)\n",
    "education"
   ]
  },
  {
   "cell_type": "code",
   "execution_count": 57,
   "id": "47cac69f",
   "metadata": {},
   "outputs": [],
   "source": [
    "df = pd.concat([df, education], axis=1)"
   ]
  },
  {
   "cell_type": "code",
   "execution_count": 58,
   "id": "ffaff28c",
   "metadata": {},
   "outputs": [],
   "source": [
    "df = df.drop(['edlevel'], axis=1)"
   ]
  },
  {
   "cell_type": "code",
   "execution_count": 59,
   "id": "354dfb43",
   "metadata": {},
   "outputs": [],
   "source": [
    "X=df[['childexist','Urban',\n",
    "      'isFemale','BeenAbroad',\n",
    "      'educlevel_1','educlevel_2','educlevel_3',\n",
    "      'healthy','ageYr','fjobexist','married']]"
   ]
  },
  {
   "cell_type": "code",
   "execution_count": 60,
   "id": "7221b4f9",
   "metadata": {},
   "outputs": [
    {
     "name": "stdout",
     "output_type": "stream",
     "text": [
      "<class 'pandas.core.frame.DataFrame'>\n",
      "Int64Index: 2000 entries, 0 to 1999\n",
      "Data columns (total 11 columns):\n",
      " #   Column       Non-Null Count  Dtype  \n",
      "---  ------       --------------  -----  \n",
      " 0   childexist   2000 non-null   int64  \n",
      " 1   Urban        2000 non-null   float64\n",
      " 2   isFemale     2000 non-null   int64  \n",
      " 3   BeenAbroad   2000 non-null   int64  \n",
      " 4   educlevel_1  2000 non-null   uint8  \n",
      " 5   educlevel_2  2000 non-null   uint8  \n",
      " 6   educlevel_3  2000 non-null   uint8  \n",
      " 7   healthy      2000 non-null   int64  \n",
      " 8   ageYr        2000 non-null   int64  \n",
      " 9   fjobexist    2000 non-null   int64  \n",
      " 10  married      2000 non-null   int64  \n",
      "dtypes: float64(1), int64(7), uint8(3)\n",
      "memory usage: 211.0 KB\n"
     ]
    }
   ],
   "source": [
    "X.info()"
   ]
  },
  {
   "cell_type": "code",
   "execution_count": 61,
   "id": "2cc8e2f6",
   "metadata": {},
   "outputs": [],
   "source": [
    "from sklearn.model_selection import train_test_split\n"
   ]
  },
  {
   "cell_type": "code",
   "execution_count": 62,
   "id": "544a8add",
   "metadata": {},
   "outputs": [],
   "source": [
    "X_train,X_test,y_train,y_test = train_test_split(X,y,test_size=0.3,random_state=42)"
   ]
  },
  {
   "cell_type": "code",
   "execution_count": 63,
   "id": "6026c448",
   "metadata": {},
   "outputs": [],
   "source": [
    "#Linear Regression"
   ]
  },
  {
   "cell_type": "code",
   "execution_count": 64,
   "id": "67d2c872",
   "metadata": {},
   "outputs": [],
   "source": [
    "from sklearn.linear_model import LinearRegression"
   ]
  },
  {
   "cell_type": "code",
   "execution_count": 65,
   "id": "eaf2fb62",
   "metadata": {},
   "outputs": [],
   "source": [
    "linreg = LinearRegression()"
   ]
  },
  {
   "cell_type": "code",
   "execution_count": 66,
   "id": "47d61a71",
   "metadata": {},
   "outputs": [
    {
     "data": {
      "text/plain": [
       "LinearRegression()"
      ]
     },
     "execution_count": 66,
     "metadata": {},
     "output_type": "execute_result"
    }
   ],
   "source": [
    "linreg.fit(X_train,y_train)"
   ]
  },
  {
   "cell_type": "code",
   "execution_count": 67,
   "id": "30426550",
   "metadata": {},
   "outputs": [],
   "source": [
    "y_pred = linreg.predict(X_test)\n"
   ]
  },
  {
   "cell_type": "code",
   "execution_count": 68,
   "id": "655d97c5",
   "metadata": {},
   "outputs": [],
   "source": [
    "r2=linreg.score(X_test,y_test)"
   ]
  },
  {
   "cell_type": "code",
   "execution_count": 69,
   "id": "9b0f70f5",
   "metadata": {},
   "outputs": [],
   "source": [
    "import statsmodels.api as sm\n",
    "model = sm.OLS(y,X)"
   ]
  },
  {
   "cell_type": "code",
   "execution_count": 70,
   "id": "88496baa",
   "metadata": {},
   "outputs": [],
   "source": [
    "result=model.fit()"
   ]
  },
  {
   "cell_type": "code",
   "execution_count": 71,
   "id": "10a2ed1a",
   "metadata": {},
   "outputs": [
    {
     "data": {
      "text/plain": [
       "0.400547523855022"
      ]
     },
     "execution_count": 71,
     "metadata": {},
     "output_type": "execute_result"
    }
   ],
   "source": [
    "r2=result.rsquared\n",
    "r2"
   ]
  },
  {
   "cell_type": "code",
   "execution_count": 72,
   "id": "b5af2b16",
   "metadata": {},
   "outputs": [
    {
     "name": "stdout",
     "output_type": "stream",
     "text": [
      "                            OLS Regression Results                            \n",
      "==============================================================================\n",
      "Dep. Variable:               isWorker   R-squared:                       0.401\n",
      "Model:                            OLS   Adj. R-squared:                  0.398\n",
      "Method:                 Least Squares   F-statistic:                     132.9\n",
      "Date:                Thu, 28 Oct 2021   Prob (F-statistic):          1.01e-212\n",
      "Time:                        16:20:55   Log-Likelihood:                -937.14\n",
      "No. Observations:                2000   AIC:                             1896.\n",
      "Df Residuals:                    1989   BIC:                             1958.\n",
      "Df Model:                          10                                         \n",
      "Covariance Type:            nonrobust                                         \n",
      "===============================================================================\n",
      "                  coef    std err          t      P>|t|      [0.025      0.975]\n",
      "-------------------------------------------------------------------------------\n",
      "childexist      0.0115      0.027      0.419      0.675      -0.042       0.065\n",
      "Urban          -0.0234      0.020     -1.176      0.240      -0.062       0.016\n",
      "isFemale       -0.0724      0.021     -3.398      0.001      -0.114      -0.031\n",
      "BeenAbroad     -0.4253      0.025    -16.893      0.000      -0.475      -0.376\n",
      "educlevel_1    -0.0759      0.104     -0.730      0.466      -0.280       0.128\n",
      "educlevel_2    -0.0475      0.112     -0.424      0.672      -0.267       0.172\n",
      "educlevel_3    -0.0212      0.113     -0.187      0.852      -0.243       0.201\n",
      "healthy         0.0739      0.079      0.942      0.346      -0.080       0.228\n",
      "ageYr           0.0088      0.003      2.815      0.005       0.003       0.015\n",
      "fjobexist       0.6388      0.022     28.510      0.000       0.595       0.683\n",
      "married         0.0058      0.027      0.214      0.830      -0.047       0.059\n",
      "==============================================================================\n",
      "Omnibus:                        1.794   Durbin-Watson:                   1.774\n",
      "Prob(Omnibus):                  0.408   Jarque-Bera (JB):                1.780\n",
      "Skew:                           0.020   Prob(JB):                        0.411\n",
      "Kurtosis:                       3.141   Cond. No.                         576.\n",
      "==============================================================================\n",
      "\n",
      "Notes:\n",
      "[1] Standard Errors assume that the covariance matrix of the errors is correctly specified.\n"
     ]
    }
   ],
   "source": [
    "print(result.summary())"
   ]
  },
  {
   "cell_type": "code",
   "execution_count": 73,
   "id": "ab04bd64",
   "metadata": {},
   "outputs": [],
   "source": [
    "#Logistic Regression"
   ]
  },
  {
   "cell_type": "code",
   "execution_count": 74,
   "id": "3ae36321",
   "metadata": {},
   "outputs": [],
   "source": [
    "from sklearn.linear_model import LogisticRegression"
   ]
  },
  {
   "cell_type": "code",
   "execution_count": 75,
   "id": "3ee7e579",
   "metadata": {},
   "outputs": [],
   "source": [
    "logreg = LogisticRegression()"
   ]
  },
  {
   "cell_type": "code",
   "execution_count": 76,
   "id": "26b13ace",
   "metadata": {},
   "outputs": [
    {
     "name": "stderr",
     "output_type": "stream",
     "text": [
      "C:\\Users\\Jahongir\\anaconda3\\lib\\site-packages\\sklearn\\linear_model\\_logistic.py:763: ConvergenceWarning: lbfgs failed to converge (status=1):\n",
      "STOP: TOTAL NO. of ITERATIONS REACHED LIMIT.\n",
      "\n",
      "Increase the number of iterations (max_iter) or scale the data as shown in:\n",
      "    https://scikit-learn.org/stable/modules/preprocessing.html\n",
      "Please also refer to the documentation for alternative solver options:\n",
      "    https://scikit-learn.org/stable/modules/linear_model.html#logistic-regression\n",
      "  n_iter_i = _check_optimize_result(\n"
     ]
    },
    {
     "data": {
      "text/plain": [
       "LogisticRegression()"
      ]
     },
     "execution_count": 76,
     "metadata": {},
     "output_type": "execute_result"
    }
   ],
   "source": [
    "logreg.fit(X_train,y_train)\n"
   ]
  },
  {
   "cell_type": "code",
   "execution_count": 77,
   "id": "7ec536af",
   "metadata": {},
   "outputs": [],
   "source": [
    "y_pred = logreg.predict(X_test)"
   ]
  },
  {
   "cell_type": "code",
   "execution_count": 78,
   "id": "f1256a36",
   "metadata": {},
   "outputs": [
    {
     "data": {
      "text/plain": [
       "0.795"
      ]
     },
     "execution_count": 78,
     "metadata": {},
     "output_type": "execute_result"
    }
   ],
   "source": [
    "logreg.score(X_test,y_test)"
   ]
  },
  {
   "cell_type": "code",
   "execution_count": 79,
   "id": "7c7c8552",
   "metadata": {},
   "outputs": [
    {
     "data": {
      "text/plain": [
       "array([[227,  48],\n",
       "       [ 75, 250]], dtype=int64)"
      ]
     },
     "execution_count": 79,
     "metadata": {},
     "output_type": "execute_result"
    }
   ],
   "source": [
    "from sklearn import metrics\n",
    "cnf_matrix = metrics.confusion_matrix(y_test, y_pred)\n",
    "cnf_matrix\n"
   ]
  },
  {
   "cell_type": "code",
   "execution_count": 80,
   "id": "bb0c8446",
   "metadata": {},
   "outputs": [
    {
     "name": "stdout",
     "output_type": "stream",
     "text": [
      "Accuracy: 0.795\n"
     ]
    }
   ],
   "source": [
    "print(\"Accuracy:\",metrics.accuracy_score(y_test, y_pred))"
   ]
  },
  {
   "cell_type": "code",
   "execution_count": 81,
   "id": "e3da2e63",
   "metadata": {},
   "outputs": [],
   "source": [
    "#Desicion Tree"
   ]
  },
  {
   "cell_type": "code",
   "execution_count": 82,
   "id": "d4d58423",
   "metadata": {},
   "outputs": [
    {
     "data": {
      "text/plain": [
       "DecisionTreeClassifier(max_depth=4)"
      ]
     },
     "execution_count": 82,
     "metadata": {},
     "output_type": "execute_result"
    }
   ],
   "source": [
    "from sklearn.tree import DecisionTreeClassifier\n",
    "model_tree = DecisionTreeClassifier(max_depth=4)\n",
    "model_tree.fit(X_train, y_train)"
   ]
  },
  {
   "cell_type": "code",
   "execution_count": 83,
   "id": "1ee5db5f",
   "metadata": {},
   "outputs": [],
   "source": [
    "y_predict = model_tree.predict(X_test)"
   ]
  },
  {
   "cell_type": "code",
   "execution_count": 84,
   "id": "f31ac99d",
   "metadata": {},
   "outputs": [
    {
     "name": "stdout",
     "output_type": "stream",
     "text": [
      "0.7916666666666666\n"
     ]
    }
   ],
   "source": [
    "from sklearn.metrics import accuracy_score\n",
    "print(accuracy_score(y_test, y_predict))"
   ]
  },
  {
   "cell_type": "code",
   "execution_count": 85,
   "id": "01928bbd",
   "metadata": {},
   "outputs": [],
   "source": [
    "#Random Forest"
   ]
  },
  {
   "cell_type": "code",
   "execution_count": 86,
   "id": "3f30f1f8",
   "metadata": {},
   "outputs": [],
   "source": [
    "from sklearn.ensemble import RandomForestClassifier"
   ]
  },
  {
   "cell_type": "code",
   "execution_count": 87,
   "id": "f540e28d",
   "metadata": {},
   "outputs": [],
   "source": [
    "forest = RandomForestClassifier(criterion='gini',\n",
    "                                 n_estimators=10,\n",
    "                                 random_state=1,\n",
    "                                 n_jobs=2)"
   ]
  },
  {
   "cell_type": "code",
   "execution_count": 88,
   "id": "30cbe492",
   "metadata": {},
   "outputs": [
    {
     "name": "stdout",
     "output_type": "stream",
     "text": [
      "Accuracy: 0.750\n"
     ]
    }
   ],
   "source": [
    "forest.fit(X_train, y_train)\n",
    "y_pred = forest.predict(X_test)\n",
    "print('Accuracy: %.3f' % accuracy_score(y_test, y_pred))"
   ]
  },
  {
   "cell_type": "code",
   "execution_count": 84,
   "id": "4dcf2f88",
   "metadata": {},
   "outputs": [],
   "source": [
    "#kNN"
   ]
  },
  {
   "cell_type": "code",
   "execution_count": 112,
   "id": "7142f8a3",
   "metadata": {},
   "outputs": [],
   "source": [
    "from sklearn.preprocessing import StandardScaler \n",
    "sc = StandardScaler() \n",
    "X_train = sc.fit_transform (X_train) \n",
    "X_test = sc.transform (X_test)"
   ]
  },
  {
   "cell_type": "code",
   "execution_count": 113,
   "id": "47fde68d",
   "metadata": {},
   "outputs": [
    {
     "name": "stdout",
     "output_type": "stream",
     "text": [
      "0.775\n"
     ]
    }
   ],
   "source": [
    "from sklearn.neighbors import KNeighborsClassifier\n",
    "knn = KNeighborsClassifier(n_neighbors=10)\n",
    "knn.fit(X_train, y_train)\n",
    "print(knn.score(X_test, y_test))"
   ]
  },
  {
   "cell_type": "code",
   "execution_count": 114,
   "id": "4c1de8ad",
   "metadata": {},
   "outputs": [],
   "source": [
    "y_pred = knn.predict (X_test)"
   ]
  },
  {
   "cell_type": "code",
   "execution_count": 88,
   "id": "b938cac2",
   "metadata": {},
   "outputs": [
    {
     "name": "stdout",
     "output_type": "stream",
     "text": [
      "[[215  60]\n",
      " [ 77 248]]\n"
     ]
    }
   ],
   "source": [
    "from sklearn.metrics import confusion_matrix, precision_score \n",
    "cm = confusion_matrix (y_test, y_pred) \n",
    "print(cm)"
   ]
  },
  {
   "cell_type": "code",
   "execution_count": 89,
   "id": "68eefacc",
   "metadata": {},
   "outputs": [],
   "source": [
    "#SVC"
   ]
  },
  {
   "cell_type": "code",
   "execution_count": 90,
   "id": "e30329c3",
   "metadata": {},
   "outputs": [
    {
     "data": {
      "text/plain": [
       "SVC(degree=8, kernel='poly')"
      ]
     },
     "execution_count": 90,
     "metadata": {},
     "output_type": "execute_result"
    }
   ],
   "source": [
    "from sklearn.svm import SVC\n",
    "svclassifier = SVC(kernel='poly', degree=8)\n",
    "svclassifier.fit(X_train, y_train)"
   ]
  },
  {
   "cell_type": "code",
   "execution_count": 91,
   "id": "36202765",
   "metadata": {},
   "outputs": [],
   "source": [
    "y_pred = svclassifier.predict(X_test)"
   ]
  },
  {
   "cell_type": "code",
   "execution_count": 92,
   "id": "60166189",
   "metadata": {},
   "outputs": [
    {
     "name": "stdout",
     "output_type": "stream",
     "text": [
      "[[224  51]\n",
      " [ 63 262]]\n",
      "              precision    recall  f1-score   support\n",
      "\n",
      "         0.0       0.78      0.81      0.80       275\n",
      "         1.0       0.84      0.81      0.82       325\n",
      "\n",
      "    accuracy                           0.81       600\n",
      "   macro avg       0.81      0.81      0.81       600\n",
      "weighted avg       0.81      0.81      0.81       600\n",
      "\n"
     ]
    }
   ],
   "source": [
    "from sklearn.metrics import classification_report, confusion_matrix\n",
    "print(confusion_matrix(y_test, y_pred))\n",
    "print(classification_report(y_test, y_pred))"
   ]
  },
  {
   "cell_type": "code",
   "execution_count": null,
   "id": "35275f01",
   "metadata": {},
   "outputs": [],
   "source": [
    "#GradientBoosting"
   ]
  },
  {
   "cell_type": "code",
   "execution_count": 89,
   "id": "cb589343",
   "metadata": {},
   "outputs": [],
   "source": [
    "from sklearn.ensemble import GradientBoostingRegressor\n"
   ]
  },
  {
   "cell_type": "code",
   "execution_count": 90,
   "id": "e7b90674",
   "metadata": {},
   "outputs": [
    {
     "data": {
      "text/plain": [
       "array([0.43772799, 0.58082526, 0.43772799, ..., 0.58082526, 0.46717111,\n",
       "       0.44861287])"
      ]
     },
     "execution_count": 90,
     "metadata": {},
     "output_type": "execute_result"
    }
   ],
   "source": [
    "GB=GradientBoostingRegressor(n_estimators=2)\n",
    "GB.fit(X,y)\n",
    "y_predict=GB.predict(X) #ages predicted by model with 2 estimators \n",
    "y_predict"
   ]
  },
  {
   "cell_type": "code",
   "execution_count": null,
   "id": "5c5fde8a",
   "metadata": {},
   "outputs": [],
   "source": [
    "#XGBoost"
   ]
  },
  {
   "cell_type": "code",
   "execution_count": 91,
   "id": "c612fb73",
   "metadata": {},
   "outputs": [
    {
     "name": "stdout",
     "output_type": "stream",
     "text": [
      "Requirement already satisfied: xgboost in c:\\users\\jahongir\\anaconda3\\lib\\site-packages (1.5.0)\n",
      "Requirement already satisfied: scipy in c:\\users\\jahongir\\anaconda3\\lib\\site-packages (from xgboost) (1.6.2)\n",
      "Requirement already satisfied: numpy in c:\\users\\jahongir\\anaconda3\\lib\\site-packages (from xgboost) (1.20.1)\n",
      "Note: you may need to restart the kernel to use updated packages.\n"
     ]
    }
   ],
   "source": [
    "pip install xgboost"
   ]
  },
  {
   "cell_type": "code",
   "execution_count": 92,
   "id": "58ab315b",
   "metadata": {},
   "outputs": [],
   "source": [
    "import xgboost as xgb\n"
   ]
  },
  {
   "cell_type": "code",
   "execution_count": 93,
   "id": "c4d48314",
   "metadata": {},
   "outputs": [],
   "source": [
    "xg_reg = xgb.XGBRegressor(objective ='reg:linear', colsample_bytree = 0.3, learning_rate = 0.1,\n",
    "                max_depth = 5, alpha = 10, n_estimators = 10)"
   ]
  },
  {
   "cell_type": "code",
   "execution_count": 94,
   "id": "8e33fe31",
   "metadata": {},
   "outputs": [
    {
     "name": "stdout",
     "output_type": "stream",
     "text": [
      "[16:22:33] WARNING: C:/Users/Administrator/workspace/xgboost-win64_release_1.5.0/src/objective/regression_obj.cu:188: reg:linear is now deprecated in favor of reg:squarederror.\n"
     ]
    },
    {
     "data": {
      "text/plain": [
       "XGBRegressor(alpha=10, base_score=0.5, booster='gbtree', colsample_bylevel=1,\n",
       "             colsample_bynode=1, colsample_bytree=0.3, enable_categorical=False,\n",
       "             gamma=0, gpu_id=-1, importance_type=None,\n",
       "             interaction_constraints='', learning_rate=0.1, max_delta_step=0,\n",
       "             max_depth=5, min_child_weight=1, missing=nan,\n",
       "             monotone_constraints='()', n_estimators=10, n_jobs=4,\n",
       "             num_parallel_tree=1, objective='reg:linear', predictor='auto',\n",
       "             random_state=0, reg_alpha=10, reg_lambda=1, scale_pos_weight=1,\n",
       "             subsample=1, tree_method='exact', validate_parameters=1,\n",
       "             verbosity=None)"
      ]
     },
     "execution_count": 94,
     "metadata": {},
     "output_type": "execute_result"
    }
   ],
   "source": [
    "xg_reg.fit(X_train,y_train)\n"
   ]
  },
  {
   "cell_type": "code",
   "execution_count": 95,
   "id": "e269e8d2",
   "metadata": {},
   "outputs": [],
   "source": [
    "preds = xg_reg.predict(X_test)"
   ]
  },
  {
   "cell_type": "code",
   "execution_count": 96,
   "id": "f008c984",
   "metadata": {},
   "outputs": [
    {
     "data": {
      "text/plain": [
       "array([0.64370394, 0.6432077 , 0.3742181 , 0.4865164 , 0.5502253 ,\n",
       "       0.5016366 , 0.3742181 , 0.60014087, 0.63985443, 0.3742181 ,\n",
       "       0.64370394, 0.58035266, 0.4720233 , 0.43266073, 0.6432077 ,\n",
       "       0.5177146 , 0.54184806, 0.3742181 , 0.3697767 , 0.36701813,\n",
       "       0.5748585 , 0.4840045 , 0.5770939 , 0.5243073 , 0.5408438 ,\n",
       "       0.6568574 , 0.3752224 , 0.5199394 , 0.5393292 , 0.3752224 ,\n",
       "       0.495386  , 0.3742181 , 0.54184806, 0.5040674 , 0.49756896,\n",
       "       0.495386  , 0.63318235, 0.58035266, 0.44983196, 0.37697667,\n",
       "       0.5702726 , 0.36878446, 0.4009565 , 0.54638934, 0.45996642,\n",
       "       0.5243073 , 0.5408438 , 0.5408438 , 0.3742181 , 0.59738225,\n",
       "       0.5209437 , 0.3697767 , 0.6558531 , 0.42362723, 0.3752224 ,\n",
       "       0.586115  , 0.5510233 , 0.5209437 , 0.40371507, 0.4904809 ,\n",
       "       0.5243073 , 0.586115  , 0.6658785 , 0.586115  , 0.5067563 ,\n",
       "       0.6432077 , 0.495386  , 0.49439377, 0.64596635, 0.5449114 ,\n",
       "       0.6558531 , 0.3697767 , 0.3742181 , 0.6568574 , 0.3697767 ,\n",
       "       0.45996642, 0.6658785 , 0.65018034, 0.6432077 , 0.6275096 ,\n",
       "       0.3697767 , 0.52093166, 0.6658785 , 0.586115  , 0.5374905 ,\n",
       "       0.46781018, 0.495386  , 0.3742181 , 0.5916092 , 0.6227996 ,\n",
       "       0.5199394 , 0.45447227, 0.47524926, 0.5449114 , 0.6447082 ,\n",
       "       0.3636648 , 0.586115  , 0.51817304, 0.52428496, 0.37697667,\n",
       "       0.5449114 , 0.64035064, 0.49439377, 0.3636648 , 0.6432077 ,\n",
       "       0.6432077 , 0.37313002, 0.46409237, 0.3752224 , 0.3752224 ,\n",
       "       0.49756896, 0.3697767 , 0.62380385, 0.4009565 , 0.3742181 ,\n",
       "       0.3742181 , 0.37697667, 0.6308333 , 0.49439377, 0.6275096 ,\n",
       "       0.44044143, 0.49615362, 0.36701813, 0.48001784, 0.5916092 ,\n",
       "       0.6432077 , 0.3742181 , 0.49756896, 0.36701813, 0.54184806,\n",
       "       0.6568574 , 0.54638934, 0.65018034, 0.3697767 , 0.6432077 ,\n",
       "       0.3752224 , 0.56394047, 0.49857324, 0.6558531 , 0.6166997 ,\n",
       "       0.49756896, 0.63318235, 0.54473114, 0.3742181 , 0.4762415 ,\n",
       "       0.6658785 , 0.5243073 , 0.6432077 , 0.46133378, 0.6658785 ,\n",
       "       0.51817304, 0.6558531 , 0.4009565 , 0.36878446, 0.3697767 ,\n",
       "       0.5191773 , 0.5016366 , 0.49857324, 0.6220375 , 0.6275096 ,\n",
       "       0.49756896, 0.6227996 , 0.48551208, 0.5243073 , 0.63220215,\n",
       "       0.586115  , 0.63494873, 0.5585385 , 0.5544231 , 0.5243073 ,\n",
       "       0.6166997 , 0.56394047, 0.5040674 , 0.63594097, 0.6275096 ,\n",
       "       0.4009565 , 0.54184806, 0.586115  , 0.49439377, 0.4009565 ,\n",
       "       0.46781018, 0.6658785 , 0.6432077 , 0.36878446, 0.5748585 ,\n",
       "       0.46781018, 0.6227996 , 0.36878446, 0.4009565 , 0.6658785 ,\n",
       "       0.4009565 , 0.4862669 , 0.63985443, 0.45078048, 0.6432077 ,\n",
       "       0.42362723, 0.586115  , 0.6432077 , 0.6658785 , 0.5374905 ,\n",
       "       0.3742181 , 0.36701813, 0.4009565 , 0.5016366 , 0.6210332 ,\n",
       "       0.63694525, 0.49262738, 0.37697667, 0.3742181 , 0.6227996 ,\n",
       "       0.6413549 , 0.6210332 , 0.6658785 , 0.54767   , 0.4343295 ,\n",
       "       0.5209437 , 0.48927408, 0.4009565 , 0.48350832, 0.61229   ,\n",
       "       0.37697667, 0.6237918 , 0.3697767 , 0.3718691 , 0.36878446,\n",
       "       0.5243073 , 0.64035064, 0.48750862, 0.49439377, 0.5071308 ,\n",
       "       0.45148137, 0.45447227, 0.36701813, 0.54473114, 0.36701813,\n",
       "       0.5040674 , 0.4009565 , 0.6658785 , 0.495386  , 0.49439377,\n",
       "       0.65018034, 0.495386  , 0.50883436, 0.6432077 , 0.49756896,\n",
       "       0.5408438 , 0.45447227, 0.36701813, 0.63494873, 0.5748585 ,\n",
       "       0.64370394, 0.58035266, 0.49439377, 0.6658785 , 0.495386  ,\n",
       "       0.63494873, 0.5152981 , 0.49756896, 0.48001784, 0.52528924,\n",
       "       0.3935355 , 0.49756896, 0.64931965, 0.37598443, 0.3742181 ,\n",
       "       0.48065117, 0.56758213, 0.3742181 , 0.6176799 , 0.45447227,\n",
       "       0.3752224 , 0.49756896, 0.3742181 , 0.6568574 , 0.5374905 ,\n",
       "       0.48102215, 0.45447227, 0.5209437 , 0.5770939 , 0.48350832,\n",
       "       0.3742181 , 0.49439377, 0.63694525, 0.5449114 , 0.52718   ,\n",
       "       0.6112978 , 0.3697767 , 0.6432077 , 0.3742181 , 0.36878446,\n",
       "       0.495386  , 0.43768284, 0.59914863, 0.3697767 , 0.44983196,\n",
       "       0.50306314, 0.6449741 , 0.49756896, 0.37698874, 0.6658785 ,\n",
       "       0.48001784, 0.6658785 , 0.36878446, 0.5568803 , 0.580803  ,\n",
       "       0.6658785 , 0.49439377, 0.54473114, 0.5408438 , 0.5916092 ,\n",
       "       0.3752224 , 0.5209437 , 0.6658785 , 0.40371507, 0.495386  ,\n",
       "       0.5243073 , 0.36878446, 0.49439377, 0.6658785 , 0.495386  ,\n",
       "       0.6658785 , 0.6535041 , 0.46409237, 0.6658785 , 0.6658785 ,\n",
       "       0.5209437 , 0.5449114 , 0.59738225, 0.36878446, 0.39789313,\n",
       "       0.49262738, 0.48350832, 0.5408438 , 0.5243073 , 0.3742181 ,\n",
       "       0.59402895, 0.63220215, 0.64370394, 0.49756896, 0.36878446,\n",
       "       0.52093166, 0.6166997 , 0.5748585 , 0.6432077 , 0.49756896,\n",
       "       0.6432077 , 0.51817304, 0.36878446, 0.36878446, 0.6658785 ,\n",
       "       0.6449741 , 0.4009565 , 0.43768284, 0.6237918 , 0.6432077 ,\n",
       "       0.59914863, 0.5817952 , 0.6449741 , 0.55352193, 0.3742181 ,\n",
       "       0.49756896, 0.6658785 , 0.3636648 , 0.6658785 , 0.46781018,\n",
       "       0.5243073 , 0.49756896, 0.6658785 , 0.5243073 , 0.48001784,\n",
       "       0.495386  , 0.3697767 , 0.51817304, 0.59738225, 0.4343295 ,\n",
       "       0.58035266, 0.3697767 , 0.60014087, 0.6625252 , 0.48001784,\n",
       "       0.49857324, 0.36878446, 0.4009565 , 0.3742181 , 0.51817304,\n",
       "       0.65018034, 0.4009565 , 0.586115  , 0.4009565 , 0.49756896,\n",
       "       0.5568803 , 0.36878446, 0.3752224 , 0.50774854, 0.4009565 ,\n",
       "       0.48001784, 0.3697767 , 0.4394492 , 0.48527467, 0.45700023,\n",
       "       0.59738225, 0.586115  , 0.54638934, 0.64596635, 0.48139665,\n",
       "       0.3752224 , 0.4009565 , 0.6432077 , 0.6095314 , 0.47448722,\n",
       "       0.64370394, 0.4734829 , 0.6658785 , 0.60014087, 0.6658785 ,\n",
       "       0.38968885, 0.52718   , 0.63694525, 0.64370394, 0.3742181 ,\n",
       "       0.5748585 , 0.3742181 , 0.4928003 , 0.4009565 , 0.37697667,\n",
       "       0.3697767 , 0.3697767 , 0.48102215, 0.48927408, 0.4009565 ,\n",
       "       0.36878446, 0.52428496, 0.45996642, 0.42362723, 0.46310014,\n",
       "       0.49756896, 0.49756896, 0.65018034, 0.58035266, 0.51817304,\n",
       "       0.3697767 , 0.64035064, 0.54473114, 0.3935355 , 0.3697767 ,\n",
       "       0.49439377, 0.64596635, 0.52193594, 0.56394047, 0.52206033,\n",
       "       0.6237918 , 0.37798098, 0.3742181 , 0.5916092 , 0.5191773 ,\n",
       "       0.63594097, 0.495386  , 0.65018034, 0.5449114 , 0.6658785 ,\n",
       "       0.5020165 , 0.6432077 , 0.48350832, 0.64596635, 0.5916092 ,\n",
       "       0.6275096 , 0.6432077 , 0.64035064, 0.45898476, 0.5408438 ,\n",
       "       0.62380385, 0.5521877 , 0.6558531 , 0.3752224 , 0.5374905 ,\n",
       "       0.4009565 , 0.63318235, 0.49262738, 0.5582996 , 0.37697667,\n",
       "       0.49439377, 0.3742181 , 0.54638934, 0.538619  , 0.52718   ,\n",
       "       0.5449114 , 0.36701813, 0.5071308 , 0.3636648 , 0.36701813,\n",
       "       0.6625252 , 0.3697767 , 0.5243073 , 0.52718   , 0.3752224 ,\n",
       "       0.4009565 , 0.5815838 , 0.5374905 , 0.3697767 , 0.49756896,\n",
       "       0.37798098, 0.52718   , 0.6210332 , 0.586115  , 0.6658785 ,\n",
       "       0.36878446, 0.48001784, 0.64596635, 0.3752224 , 0.49756896,\n",
       "       0.4343295 , 0.6568574 , 0.45447227, 0.36701813, 0.36701813,\n",
       "       0.3636648 , 0.4009565 , 0.46410444, 0.54184806, 0.6658785 ,\n",
       "       0.6275096 , 0.3697767 , 0.37698874, 0.5191773 , 0.4009565 ,\n",
       "       0.4070684 , 0.5770939 , 0.6658785 , 0.3752224 , 0.3742181 ,\n",
       "       0.6432077 , 0.52428496, 0.495386  , 0.3742181 , 0.6658785 ,\n",
       "       0.49262738, 0.3697767 , 0.6658785 , 0.3697767 , 0.45447227,\n",
       "       0.6432077 , 0.36878446, 0.6156433 , 0.48001784, 0.3697767 ,\n",
       "       0.52428496, 0.36878446, 0.54473114, 0.48102215, 0.59738225,\n",
       "       0.3742181 , 0.64931965, 0.48527467, 0.39688882, 0.495386  ,\n",
       "       0.6568574 , 0.495386  , 0.5243073 , 0.6658785 , 0.4772458 ,\n",
       "       0.36701813, 0.3742181 , 0.42362723, 0.36701813, 0.6568574 ,\n",
       "       0.59738225, 0.5243073 , 0.6432077 , 0.6658785 , 0.48927408,\n",
       "       0.5916092 , 0.40371507, 0.5029708 , 0.51817304, 0.6658785 ,\n",
       "       0.586115  , 0.5748585 , 0.40371507, 0.5770939 , 0.4202739 ,\n",
       "       0.3752224 , 0.36701813, 0.49756896, 0.48551208, 0.59402895,\n",
       "       0.5449114 , 0.4070684 , 0.48350832, 0.48650432, 0.3697767 ,\n",
       "       0.56943464, 0.3813343 , 0.5209437 , 0.5748585 , 0.5748585 ,\n",
       "       0.495386  , 0.3636648 , 0.4009565 , 0.5502253 , 0.3697767 ],\n",
       "      dtype=float32)"
      ]
     },
     "execution_count": 96,
     "metadata": {},
     "output_type": "execute_result"
    }
   ],
   "source": [
    "preds"
   ]
  },
  {
   "cell_type": "code",
   "execution_count": 97,
   "id": "a2dcf2fe",
   "metadata": {},
   "outputs": [
    {
     "data": {
      "text/plain": [
       "0.1862922790729996"
      ]
     },
     "execution_count": 97,
     "metadata": {},
     "output_type": "execute_result"
    }
   ],
   "source": [
    "xg_reg.score(X_test,y_test)"
   ]
  },
  {
   "cell_type": "code",
   "execution_count": null,
   "id": "cc37e73b",
   "metadata": {},
   "outputs": [],
   "source": []
  }
 ],
 "metadata": {
  "kernelspec": {
   "display_name": "Python 3",
   "language": "python",
   "name": "python3"
  },
  "language_info": {
   "codemirror_mode": {
    "name": "ipython",
    "version": 3
   },
   "file_extension": ".py",
   "mimetype": "text/x-python",
   "name": "python",
   "nbconvert_exporter": "python",
   "pygments_lexer": "ipython3",
   "version": "3.8.8"
  }
 },
 "nbformat": 4,
 "nbformat_minor": 5
}
